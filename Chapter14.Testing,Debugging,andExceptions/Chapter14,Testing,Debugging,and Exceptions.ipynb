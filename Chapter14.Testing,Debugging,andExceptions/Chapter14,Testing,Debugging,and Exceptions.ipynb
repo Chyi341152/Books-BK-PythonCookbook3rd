{
 "cells": [
  {
   "cell_type": "markdown",
   "metadata": {},
   "source": [
    "# 14.1. Testing Output Send to stdout"
   ]
  },
  {
   "cell_type": "code",
   "execution_count": null,
   "metadata": {},
   "outputs": [],
   "source": [
    "# unittest.mock module's patch() function, it's pretty simple to mock out sys.stdout for just a single test\n",
    "from io import StringIO\n",
    "from unittest improt TestCase\n",
    "from unittest.mock import patch \n",
    "import mymodule\n",
    "\n",
    "class TestURLPrint(TestCase):\n",
    "    def test_url_gets_to_stdout(self):\n",
    "        protocol = 'http'\n",
    "        host = 'www'\n",
    "        domain = 'example.com'\n",
    "        expected_url = '{}://{}.{}\\n'.format(protocol, host, domain)\n",
    "        \n",
    "        with patch('sys.stdout', new=StringIO()) as fake_out:\n",
    "            mymodule.urlprint(protocol, host, domain)\n",
    "            self.assertEqual(fake_out.getvalue(), expected_url)\n",
    "\n",
    "            "
   ]
  },
  {
   "cell_type": "markdown",
   "metadata": {},
   "source": [
    "# 14.2.Patching Objects in Unit Tests"
   ]
  },
  {
   "cell_type": "code",
   "execution_count": null,
   "metadata": {},
   "outputs": [],
   "source": [
    "from unittest.mock import patch \n",
    "import example\n",
    "\n",
    "@patch('example.func')\n",
    "def test1(x, mock_func):"
   ]
  },
  {
   "cell_type": "code",
   "execution_count": null,
   "metadata": {},
   "outputs": [],
   "source": []
  },
  {
   "cell_type": "code",
   "execution_count": null,
   "metadata": {},
   "outputs": [],
   "source": []
  },
  {
   "cell_type": "code",
   "execution_count": null,
   "metadata": {},
   "outputs": [],
   "source": []
  },
  {
   "cell_type": "code",
   "execution_count": null,
   "metadata": {},
   "outputs": [],
   "source": []
  },
  {
   "cell_type": "code",
   "execution_count": null,
   "metadata": {},
   "outputs": [],
   "source": []
  },
  {
   "cell_type": "code",
   "execution_count": null,
   "metadata": {},
   "outputs": [],
   "source": []
  },
  {
   "cell_type": "code",
   "execution_count": null,
   "metadata": {},
   "outputs": [],
   "source": []
  },
  {
   "cell_type": "code",
   "execution_count": null,
   "metadata": {},
   "outputs": [],
   "source": []
  },
  {
   "cell_type": "code",
   "execution_count": null,
   "metadata": {},
   "outputs": [],
   "source": []
  },
  {
   "cell_type": "code",
   "execution_count": null,
   "metadata": {},
   "outputs": [],
   "source": []
  },
  {
   "cell_type": "code",
   "execution_count": null,
   "metadata": {},
   "outputs": [],
   "source": []
  },
  {
   "cell_type": "code",
   "execution_count": null,
   "metadata": {},
   "outputs": [],
   "source": []
  },
  {
   "cell_type": "code",
   "execution_count": null,
   "metadata": {},
   "outputs": [],
   "source": []
  },
  {
   "cell_type": "code",
   "execution_count": null,
   "metadata": {},
   "outputs": [],
   "source": []
  },
  {
   "cell_type": "code",
   "execution_count": null,
   "metadata": {},
   "outputs": [],
   "source": []
  },
  {
   "cell_type": "markdown",
   "metadata": {},
   "source": [
    "# 14.13. Profiling and Timing Your Program"
   ]
  },
  {
   "cell_type": "code",
   "execution_count": 10,
   "metadata": {},
   "outputs": [
    {
     "name": "stdout",
     "output_type": "stream",
     "text": [
      "1 output\n",
      "2 output\n",
      "3 output\n",
      "4 output\n",
      "5 output\n",
      "6 output\n",
      "7 output\n",
      "8 output\n",
      "9 output\n",
      "CPU times: user 0 ns, sys: 17.9 ms, total: 17.9 ms\n",
      "Wall time: 4.51 s\n"
     ]
    }
   ],
   "source": [
    "%%time \n",
    "%run ./someprogram.py"
   ]
  },
  {
   "cell_type": "code",
   "execution_count": 13,
   "metadata": {},
   "outputs": [
    {
     "name": "stdout",
     "output_type": "stream",
     "text": [
      "1 output\n",
      "2 output\n",
      "3 output\n",
      "4 output\n",
      "5 output\n",
      "6 output\n",
      "7 output\n",
      "8 output\n",
      "9 output\n",
      "         310 function calls in 4.510 seconds\n",
      "\n",
      "   Ordered by: standard name\n",
      "\n",
      "   ncalls  tottime  percall  cumtime  percall filename:lineno(function)\n",
      "       27    0.001    0.000    0.001    0.000 iostream.py:195(schedule)\n",
      "       18    0.000    0.000    0.000    0.000 iostream.py:300(_is_master_process)\n",
      "       18    0.000    0.000    0.000    0.000 iostream.py:313(_schedule_flush)\n",
      "       18    0.000    0.000    0.002    0.000 iostream.py:366(write)\n",
      "       27    0.000    0.000    0.000    0.000 iostream.py:93(_event_pipe)\n",
      "        1    0.000    0.000    4.510    4.510 someprogram.py:3(<module>)\n",
      "        1    0.000    0.000    4.510    4.510 someprogram.py:5(main)\n",
      "       27    0.000    0.000    0.000    0.000 threading.py:1060(_wait_for_tstate_lock)\n",
      "       27    0.000    0.000    0.000    0.000 threading.py:1102(is_alive)\n",
      "       27    0.000    0.000    0.000    0.000 threading.py:504(is_set)\n",
      "        1    0.000    0.000    4.510    4.510 {built-in method builtins.exec}\n",
      "       18    0.000    0.000    0.000    0.000 {built-in method builtins.isinstance}\n",
      "        9    0.000    0.000    0.002    0.000 {built-in method builtins.print}\n",
      "       18    0.000    0.000    0.000    0.000 {built-in method posix.getpid}\n",
      "        9    4.508    0.501    4.508    0.501 {built-in method time.sleep}\n",
      "       27    0.000    0.000    0.000    0.000 {method 'acquire' of '_thread.lock' objects}\n",
      "       27    0.000    0.000    0.000    0.000 {method 'append' of 'collections.deque' objects}\n",
      "        1    0.000    0.000    0.000    0.000 {method 'disable' of '_lsprof.Profiler' objects}\n",
      "        9    0.000    0.000    0.000    0.000 {method 'format' of 'str' objects}\n",
      "\n",
      "\n"
     ]
    }
   ],
   "source": [
    "# Show what your program is doing cProfile module\n",
    "%run -m  cProfile ./someprogram.py\n"
   ]
  },
  {
   "cell_type": "code",
   "execution_count": 23,
   "metadata": {},
   "outputs": [
    {
     "name": "stdout",
     "output_type": "stream",
     "text": [
      "__main__.countdown : 0.41554452999844216\n",
      "__main__.countdown : 0.41653941800000016\n"
     ]
    }
   ],
   "source": [
    "# timethis.py\n",
    "import time\n",
    "from functools import wraps \n",
    "\n",
    "def timethis(func):\n",
    "    @wraps(func)\n",
    "    def wrapper(*args, **kwargs):\n",
    "        start = time.perf_counter()\n",
    "        r = func(*args, **kwargs)\n",
    "        end = time.perf_counter()\n",
    "        print('{}.{} : {}'.format(func.__module__, func.__name__, end - start))\n",
    "        return r\n",
    "    return wrapper \n",
    "\n",
    "def processTimeThis(func):\n",
    "    @wraps(func)\n",
    "    def wrapper(*args, **kwargs):\n",
    "        start = time.process_time()\n",
    "        r = func(*args, **kwargs)\n",
    "        end = time.process_time()\n",
    "        print('{}.{} : {}'.format(func.__module__, func.__name__, end - start))\n",
    "        return r\n",
    "    return wrapper \n",
    "\n",
    "@processTimeThis\n",
    "@timethis\n",
    "def countdown(n):\n",
    "    while n > 0:\n",
    "        n -= 1\n",
    "\n",
    "\n",
    "countdown(10000000)"
   ]
  },
  {
   "cell_type": "code",
   "execution_count": 19,
   "metadata": {},
   "outputs": [
    {
     "name": "stdout",
     "output_type": "stream",
     "text": [
      "counting : 0.7770111440040637\n"
     ]
    }
   ],
   "source": [
    "# time a block of statement, you can define a context manager \n",
    "import time \n",
    "from contextlib import contextmanager \n",
    "\n",
    "@contextmanager \n",
    "def timeblock(label):\n",
    "    # used in the solution provides the highest-resolution timer possible on a given platform\n",
    "    start = time.perf_counter() # Return the value of a performance counter\n",
    "    try:\n",
    "        yield \n",
    "    finally:\n",
    "        end = time.perf_counter()\n",
    "        print('{} : {}'.format(label, end - start))\n",
    "\n",
    "with timeblock('counting'):\n",
    "    n = 10000000\n",
    "    while n > 0:\n",
    "        n -= 1"
   ]
  },
  {
   "cell_type": "code",
   "execution_count": 22,
   "metadata": {},
   "outputs": [
    {
     "data": {
      "text/plain": [
       "0.9042768409999553"
      ]
     },
     "execution_count": 22,
     "metadata": {},
     "output_type": "execute_result"
    }
   ],
   "source": [
    "# Performance of samll code fragments,  the timeit module can be useful\n",
    "from timeit import timeit \n",
    "timeit('math.sqrt(2)', 'import math')\n",
    "timeit('sqrt(2)', 'from math import sqrt')\n",
    "\n",
    "# the first argument a million times and measuring the time\n",
    "timeit('math.sqrt(2)', 'import math', number=10000000)"
   ]
  },
  {
   "cell_type": "markdown",
   "metadata": {},
   "source": [
    "# 14.14. Making Your Programs Run Faster"
   ]
  },
  {
   "cell_type": "code",
   "execution_count": 38,
   "metadata": {},
   "outputs": [
    {
     "name": "stdout",
     "output_type": "stream",
     "text": [
      "['SRM_SaaS_ES', 'TLSMLICES', 'AddChange', 'EN']\n",
      "['ALLOCATEDCAPACITY', 'AVAILABLECAPACITY', 'LICENSE_CAPACITY', 'CAPACITYUNIT', 'CHANGEDATE', 'COMPANY', 'COMPPERIOD', 'COREMULTIGROUPID', 'COST', 'CREATEDATE', 'LICENSE_DESCRIPTION', 'LICENSE_GLACCOUNT', 'ISSUBCAP', 'LICENSENAME', 'LICENSENUM', 'LICSCOPE', 'LICTERM', 'LICTYPE', 'MTMID', 'ORGID', 'PLATFORMBASE', 'PLUSPCOSTCENTER', 'PLUSPCUSTCHACCT', 'PLUSPCUSTOMER', 'RESPPARTY', 'SERIALNUMBER', 'STARTDATE', 'STATUS', 'STATUSDATE', 'TERMINATEDATE', 'SWMANUFACTURER', 'SWNAME', 'SWRELEASE', 'SWVERSION', 'TLOAMLICSWID', 'ADMIN', 'EXPIRATIONDATE', 'INSTALLER', 'KEYTYPE', 'KEYVALUE', 'VENDORCONTACT', 'ASSETSERIALNUM', 'ALLOC_CAPACITY', 'ALLOC_GLACCOUNT', 'LOCATION', 'PERSONDISPLAYNAME', 'SITEID', 'TARGETOBJECT', 'USERNAME']\n",
      "['3.0', '2.0', '5', 'INSTINST', '', 'DHL', 'DAILY', '', '', '2010-07-20T00:00:00-04:00', 'Sample License', '6200-323-000', '0', 'TLSM License 1 Sample', 'TLSMLICENSE1', 'ENTERPRISE', 'EXECUTED', 'GENERIC', '', 'EAGLENA', 'DISTRIBUTED', '', '', '', '', '', '2010-07-20T00:00:00-04:00', 'DRAFT', '', '', 'Microsoft Corporation', '3D Pinball 5', '', '5.1.2600.0', '2', '', '', '', '', '', '', '', '', '', '', '', '', '', '']\n",
      "['3.0', '2.0', '5', 'INSTINST', '', 'DHL', 'DAILY', '', '', '2010-07-20T00:00:00-04:00', 'Sample License', '6200-323-000', '0', 'TLSM License 1 Sample', 'TLSMLICENSE1', 'ENTERPRISE', 'EXECUTED', 'GENERIC', '', 'EAGLENA', 'DISTRIBUTED', '', '', '', '', '', '2010-07-20T00:00:00-04:00', 'DRAFT', '', '', '', '', '', '', '', '', '', '', '', '', '', 'D08018', '1.0', '', '', '', 'BEDFORD', 'ASSET', '']\n",
      "['3.0', '2.0', '5', 'INSTINST', '', 'DHL', 'DAILY', '', '', '2010-07-20T00:00:00-04:00', 'Sample License', '6200-323-000', '0', 'TLSM License 1 Sample', 'TLSMLICENSE1', 'ENTERPRISE', 'EXECUTED', 'GENERIC', '', 'EAGLENA', 'DISTRIBUTED', '', '', '', '', '', '2010-07-20T00:00:00-04:00', 'DRAFT', '', '', '', '', '', '', '', '', '', '', '', '', '', '', '1.0', '', 'NEEDHAM', '', 'BEDFORD', 'LOCATION', '']\n",
      "['3.0', '2.0', '5', 'INSTINST', '', 'DHL', 'DAILY', '', '', '2010-07-20T00:00:00-04:00', 'Sample License', '6200-323-000', '0', 'TLSM License 1 Sample', 'TLSMLICENSE1', 'ENTERPRISE', 'EXECUTED', 'GENERIC', '', 'EAGLENA', 'DISTRIBUTED', '', '', '', '', '', '2010-07-20T00:00:00-04:00', 'DRAFT', '', '', '', '', '', '', '', '', '', '', '', '', '', '', '1.0', '', '', 'John Wayne Jr.', '', 'USER', 'John Wayne']\n",
      "CPU times: user 0 ns, sys: 1.02 ms, total: 1.02 ms\n",
      "Wall time: 798 µs\n"
     ]
    }
   ],
   "source": [
    "%%time\n",
    "%run ./somescript.py LicenseImportSample.csv \n",
    "# If you want to make the program run faster simply put the scripting statement in a function"
   ]
  },
  {
   "cell_type": "code",
   "execution_count": 40,
   "metadata": {},
   "outputs": [
    {
     "name": "stdout",
     "output_type": "stream",
     "text": [
      "['SRM_SaaS_ES', 'TLSMLICES', 'AddChange', 'EN']\n",
      "['ALLOCATEDCAPACITY', 'AVAILABLECAPACITY', 'LICENSE_CAPACITY', 'CAPACITYUNIT', 'CHANGEDATE', 'COMPANY', 'COMPPERIOD', 'COREMULTIGROUPID', 'COST', 'CREATEDATE', 'LICENSE_DESCRIPTION', 'LICENSE_GLACCOUNT', 'ISSUBCAP', 'LICENSENAME', 'LICENSENUM', 'LICSCOPE', 'LICTERM', 'LICTYPE', 'MTMID', 'ORGID', 'PLATFORMBASE', 'PLUSPCOSTCENTER', 'PLUSPCUSTCHACCT', 'PLUSPCUSTOMER', 'RESPPARTY', 'SERIALNUMBER', 'STARTDATE', 'STATUS', 'STATUSDATE', 'TERMINATEDATE', 'SWMANUFACTURER', 'SWNAME', 'SWRELEASE', 'SWVERSION', 'TLOAMLICSWID', 'ADMIN', 'EXPIRATIONDATE', 'INSTALLER', 'KEYTYPE', 'KEYVALUE', 'VENDORCONTACT', 'ASSETSERIALNUM', 'ALLOC_CAPACITY', 'ALLOC_GLACCOUNT', 'LOCATION', 'PERSONDISPLAYNAME', 'SITEID', 'TARGETOBJECT', 'USERNAME']\n",
      "['3.0', '2.0', '5', 'INSTINST', '', 'DHL', 'DAILY', '', '', '2010-07-20T00:00:00-04:00', 'Sample License', '6200-323-000', '0', 'TLSM License 1 Sample', 'TLSMLICENSE1', 'ENTERPRISE', 'EXECUTED', 'GENERIC', '', 'EAGLENA', 'DISTRIBUTED', '', '', '', '', '', '2010-07-20T00:00:00-04:00', 'DRAFT', '', '', 'Microsoft Corporation', '3D Pinball 5', '', '5.1.2600.0', '2', '', '', '', '', '', '', '', '', '', '', '', '', '', '']\n",
      "['3.0', '2.0', '5', 'INSTINST', '', 'DHL', 'DAILY', '', '', '2010-07-20T00:00:00-04:00', 'Sample License', '6200-323-000', '0', 'TLSM License 1 Sample', 'TLSMLICENSE1', 'ENTERPRISE', 'EXECUTED', 'GENERIC', '', 'EAGLENA', 'DISTRIBUTED', '', '', '', '', '', '2010-07-20T00:00:00-04:00', 'DRAFT', '', '', '', '', '', '', '', '', '', '', '', '', '', 'D08018', '1.0', '', '', '', 'BEDFORD', 'ASSET', '']\n",
      "['3.0', '2.0', '5', 'INSTINST', '', 'DHL', 'DAILY', '', '', '2010-07-20T00:00:00-04:00', 'Sample License', '6200-323-000', '0', 'TLSM License 1 Sample', 'TLSMLICENSE1', 'ENTERPRISE', 'EXECUTED', 'GENERIC', '', 'EAGLENA', 'DISTRIBUTED', '', '', '', '', '', '2010-07-20T00:00:00-04:00', 'DRAFT', '', '', '', '', '', '', '', '', '', '', '', '', '', '', '1.0', '', 'NEEDHAM', '', 'BEDFORD', 'LOCATION', '']\n",
      "['3.0', '2.0', '5', 'INSTINST', '', 'DHL', 'DAILY', '', '', '2010-07-20T00:00:00-04:00', 'Sample License', '6200-323-000', '0', 'TLSM License 1 Sample', 'TLSMLICENSE1', 'ENTERPRISE', 'EXECUTED', 'GENERIC', '', 'EAGLENA', 'DISTRIBUTED', '', '', '', '', '', '2010-07-20T00:00:00-04:00', 'DRAFT', '', '', '', '', '', '', '', '', '', '', '', '', '', '', '1.0', '', '', 'John Wayne Jr.', '', 'USER', 'John Wayne']\n",
      "CPU times: user 713 µs, sys: 61 µs, total: 774 µs\n",
      "Wall time: 703 µs\n"
     ]
    }
   ],
   "source": [
    "%%time\n",
    "%run ./somescript2.py LicenseImportSample.csv "
   ]
  },
  {
   "cell_type": "code",
   "execution_count": 46,
   "metadata": {},
   "outputs": [
    {
     "data": {
      "text/plain": [
       "'\\nusing math.sqrt() \\n'"
      ]
     },
     "execution_count": 46,
     "metadata": {},
     "output_type": "execute_result"
    }
   ],
   "source": [
    "# elimination of attribute access\n",
    "'''\n",
    "using math.sqrt() \n",
    "'''\n",
    "\n",
    "# local varibles are faster than global variables \n",
    "# Use the built-in containers \n",
    "# Avoid making unnecessary data structures or copies\n",
    "# Before optimizing, it's usually worthwhile to study the algorithms that you're using first "
   ]
  },
  {
   "cell_type": "code",
   "execution_count": 45,
   "metadata": {},
   "outputs": [
    {
     "name": "stdout",
     "output_type": "stream",
     "text": [
      "0.05323926400160417\n",
      "0.11521718800941017\n"
     ]
    }
   ],
   "source": [
    "class A:\n",
    "    def __init__(self, x, y):\n",
    "        self.x = x \n",
    "        self.y = y \n",
    "    \n",
    "    @property\n",
    "    def y(self):\n",
    "        return self._y\n",
    "    \n",
    "    @y.setter\n",
    "    def y(self, value):\n",
    "        self._y = value \n",
    "\n",
    "from timeit import timeit \n",
    "a = A(1,2)\n",
    "print(timeit('a.x', 'from __main__ import a'))\n",
    "print(timeit('a.y', 'from __main__ import a'))\n"
   ]
  },
  {
   "cell_type": "code",
   "execution_count": null,
   "metadata": {},
   "outputs": [],
   "source": [
    "'''\n",
    "Last, but not least, the words of John Ousterhout come to mind: \n",
    "    \"\n",
    "    The best performance improvement is the transition from the nonworking to the working state\n",
    "    \" Don't worry about optimization until your need to. Making sure your program works correctly is usually more important than making it run fast (at least initially)\n",
    "'''"
   ]
  }
 ],
 "metadata": {
  "kernelspec": {
   "display_name": "Python 3",
   "language": "python",
   "name": "python3"
  },
  "language_info": {
   "codemirror_mode": {
    "name": "ipython",
    "version": 3
   },
   "file_extension": ".py",
   "mimetype": "text/x-python",
   "name": "python",
   "nbconvert_exporter": "python",
   "pygments_lexer": "ipython3",
   "version": "3.5.2"
  }
 },
 "nbformat": 4,
 "nbformat_minor": 2
}
