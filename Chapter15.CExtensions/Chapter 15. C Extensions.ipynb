{
 "cells": [
  {
   "cell_type": "code",
   "execution_count": 4,
   "metadata": {},
   "outputs": [
    {
     "name": "stdout",
     "output_type": "stream",
     "text": [
      "total 32\r\n",
      "-rw-rw-r-- 1 goku goku  977 2月   7 16:01 Chapter 15. C Extensions.ipynb\r\n",
      "-rw-rw-r-- 1 goku goku  985 2月   7 16:49 library.c\r\n",
      "-rw-rw-r-- 1 goku goku  311 2月   7 16:43 library.h\r\n",
      "-rwxrwxr-x 1 goku goku 8784 2月   7 17:14 main\r\n",
      "-rw-rw-r-- 1 goku goku  236 2月   7 17:02 main.c\r\n",
      "-rw-rw-r-- 1 goku goku  151 2月   7 17:13 Makefile\r\n"
     ]
    }
   ],
   "source": [
    "# accessing C code from Python\n",
    "# https://docs.python.org/3/c-api/index.html\n",
    "# Python/C API Reference Manual\n",
    "\n",
    "!ls -l ."
   ]
  },
  {
   "cell_type": "markdown",
   "metadata": {},
   "source": [
    "# 15.1. Accessing C Code Using ctypes"
   ]
  },
  {
   "cell_type": "code",
   "execution_count": 14,
   "metadata": {},
   "outputs": [],
   "source": [
    "import sample\n",
    "sample.gcd(35,42)\n",
    "sample.in_mandel(0,0,500)\n",
    "sample.in_mandel(2.0,1.0,500)\n",
    "sample.divide(42,8)\n",
    "sample.avg([1,2,3])\n",
    "p1 = sample.Point(1,2)\n",
    "p2 = sample.Point(4,5)\n",
    "sample.distance(p1,p2)\n",
    "\n",
    "# ctypes.util find standard library \n",
    "from ctypes.util import find_library \n",
    "find_library('sample')\n",
    "\n",
    "'''\n",
    "ctypes is a useful library to know about if all you're doing is accessing a few C functions from Python\n",
    "    \n",
    "    ctypes isn't entirely automatic, you'll have to spend a fair bit of time writing out all of the type signatures\n",
    "    \n",
    "    As an alternative to ctypes, you might also look at CFEI.\n",
    "'''"
   ]
  },
  {
   "cell_type": "markdown",
   "metadata": {},
   "source": [
    "# 15.2. Writing a Simple C Extension Module"
   ]
  },
  {
   "cell_type": "code",
   "execution_count": null,
   "metadata": {},
   "outputs": [],
   "source": []
  },
  {
   "cell_type": "code",
   "execution_count": null,
   "metadata": {},
   "outputs": [],
   "source": []
  },
  {
   "cell_type": "code",
   "execution_count": null,
   "metadata": {},
   "outputs": [],
   "source": []
  },
  {
   "cell_type": "code",
   "execution_count": null,
   "metadata": {},
   "outputs": [],
   "source": []
  },
  {
   "cell_type": "code",
   "execution_count": null,
   "metadata": {},
   "outputs": [],
   "source": []
  },
  {
   "cell_type": "code",
   "execution_count": null,
   "metadata": {},
   "outputs": [],
   "source": []
  },
  {
   "cell_type": "code",
   "execution_count": null,
   "metadata": {},
   "outputs": [],
   "source": []
  },
  {
   "cell_type": "code",
   "execution_count": null,
   "metadata": {},
   "outputs": [],
   "source": []
  },
  {
   "cell_type": "code",
   "execution_count": null,
   "metadata": {},
   "outputs": [],
   "source": []
  },
  {
   "cell_type": "code",
   "execution_count": null,
   "metadata": {},
   "outputs": [],
   "source": []
  },
  {
   "cell_type": "code",
   "execution_count": null,
   "metadata": {},
   "outputs": [],
   "source": []
  },
  {
   "cell_type": "code",
   "execution_count": null,
   "metadata": {},
   "outputs": [],
   "source": []
  },
  {
   "cell_type": "code",
   "execution_count": null,
   "metadata": {},
   "outputs": [],
   "source": []
  },
  {
   "cell_type": "code",
   "execution_count": null,
   "metadata": {},
   "outputs": [],
   "source": []
  },
  {
   "cell_type": "code",
   "execution_count": null,
   "metadata": {},
   "outputs": [],
   "source": []
  },
  {
   "cell_type": "code",
   "execution_count": null,
   "metadata": {},
   "outputs": [],
   "source": []
  },
  {
   "cell_type": "markdown",
   "metadata": {},
   "source": [
    "# Extending Python with C or C++"
   ]
  },
  {
   "cell_type": "code",
   "execution_count": null,
   "metadata": {},
   "outputs": [],
   "source": []
  }
 ],
 "metadata": {
  "kernelspec": {
   "display_name": "Python 3",
   "language": "python",
   "name": "python3"
  },
  "language_info": {
   "codemirror_mode": {
    "name": "ipython",
    "version": 3
   },
   "file_extension": ".py",
   "mimetype": "text/x-python",
   "name": "python",
   "nbconvert_exporter": "python",
   "pygments_lexer": "ipython3",
   "version": "3.5.2"
  }
 },
 "nbformat": 4,
 "nbformat_minor": 2
}
