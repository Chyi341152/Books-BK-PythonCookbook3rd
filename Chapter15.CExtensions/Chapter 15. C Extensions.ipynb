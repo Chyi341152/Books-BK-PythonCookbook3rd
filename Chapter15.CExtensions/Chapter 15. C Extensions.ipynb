{
 "cells": [
  {
   "cell_type": "code",
   "execution_count": 4,
   "metadata": {},
   "outputs": [
    {
     "name": "stdout",
     "output_type": "stream",
     "text": [
      "total 32\r\n",
      "-rw-rw-r-- 1 goku goku  977 2月   7 16:01 Chapter 15. C Extensions.ipynb\r\n",
      "-rw-rw-r-- 1 goku goku  985 2月   7 16:49 library.c\r\n",
      "-rw-rw-r-- 1 goku goku  311 2月   7 16:43 library.h\r\n",
      "-rwxrwxr-x 1 goku goku 8784 2月   7 17:14 main\r\n",
      "-rw-rw-r-- 1 goku goku  236 2月   7 17:02 main.c\r\n",
      "-rw-rw-r-- 1 goku goku  151 2月   7 17:13 Makefile\r\n"
     ]
    }
   ],
   "source": [
    "# accessing C code from Python\n",
    "# https://docs.python.org/3/c-api/index.html\n",
    "# Python/C API Reference Manual\n",
    "\n",
    "!ls -l ."
   ]
  },
  {
   "cell_type": "markdown",
   "metadata": {},
   "source": [
    "# 15.1. Accessing C Code Using ctypes"
   ]
  },
  {
   "cell_type": "code",
   "execution_count": 13,
   "metadata": {},
   "outputs": [
    {
     "name": "stdout",
     "output_type": "stream",
     "text": [
      "<_FuncPtr object at 0x7f46081f8d90> (<class 'ctypes.c_int'>, <class 'ctypes.c_int'>) <class 'ctypes.c_int'>\n",
      "<_FuncPtr object at 0x7f46081f8f20> (<class 'ctypes.c_double'>, <class 'ctypes.c_double'>, <class 'ctypes.c_int'>) <class 'ctypes.c_int'>\n",
      "<_FuncPtr object at 0x7f46081f8e58> (<class 'ctypes.c_int'>, <class 'ctypes.c_int'>, <class '__main__.LP_c_int'>) <class 'ctypes.c_int'>\n"
     ]
    }
   ],
   "source": [
    "import ctypes\n",
    "import os\n",
    " \n",
    "# Try to locate the .so file in the same directory as this file\n",
    "_file = './library.so'\n",
    "_mod = ctypes.CDLL(_file)\n",
    " \n",
    "# int gcd(int, int)\n",
    "gcd = _mod.gcd\n",
    "gcd.argtypes = (ctypes.c_int, ctypes.c_int)\n",
    "gcd.restype = ctypes.c_int \n",
    "print(gcd, gcd.argtypes, gcd.restype)\n",
    "\n",
    "# int in_mandel (double, double, int)\n",
    "in_mandel = _mod.in_mandel\n",
    "in_mandel.argtypes = (ctypes.c_double, ctypes.c_double, ctypes.c_int)\n",
    "in_mandel.restype = ctypes.c_int \n",
    "print(in_mandel, in_mandel.argtypes, in_mandel.restype)\n",
    "\n",
    "# int divide(int, int, int *)\n",
    "_divide = _mod.divide \n",
    "_divide.argtypes = (ctypes.c_int, ctypes.c_int, ctypes.POINTER(ctypes.c_int))\n",
    "_divide.restype = ctypes.c_int\n",
    "print(_divide, _divide.argtypes, _divide.restype)\n",
    "\n",
    "def divide(x, y):\n",
    "    rem = ctypes.c_int()\n",
    "    quot = _divide(x, y, rem)\n",
    "    return quot, rem.value \n",
    "\n",
    "# void avg(double *, int n)\n",
    "# Define a special type for the 'double *' argument \n",
    "class DoubleArrayType:\n",
    "    def from_param(self, param):\n",
    "        typename = type(param).__name__\n",
    "        \n"
   ]
  },
  {
   "cell_type": "code",
   "execution_count": null,
   "metadata": {},
   "outputs": [],
   "source": []
  },
  {
   "cell_type": "code",
   "execution_count": null,
   "metadata": {},
   "outputs": [],
   "source": []
  },
  {
   "cell_type": "code",
   "execution_count": null,
   "metadata": {},
   "outputs": [],
   "source": []
  },
  {
   "cell_type": "code",
   "execution_count": null,
   "metadata": {},
   "outputs": [],
   "source": []
  },
  {
   "cell_type": "code",
   "execution_count": null,
   "metadata": {},
   "outputs": [],
   "source": []
  },
  {
   "cell_type": "code",
   "execution_count": null,
   "metadata": {},
   "outputs": [],
   "source": []
  },
  {
   "cell_type": "code",
   "execution_count": null,
   "metadata": {},
   "outputs": [],
   "source": []
  },
  {
   "cell_type": "code",
   "execution_count": null,
   "metadata": {},
   "outputs": [],
   "source": []
  },
  {
   "cell_type": "code",
   "execution_count": null,
   "metadata": {},
   "outputs": [],
   "source": []
  },
  {
   "cell_type": "code",
   "execution_count": null,
   "metadata": {},
   "outputs": [],
   "source": []
  },
  {
   "cell_type": "code",
   "execution_count": null,
   "metadata": {},
   "outputs": [],
   "source": []
  },
  {
   "cell_type": "code",
   "execution_count": null,
   "metadata": {},
   "outputs": [],
   "source": []
  }
 ],
 "metadata": {
  "kernelspec": {
   "display_name": "Python 3",
   "language": "python",
   "name": "python3"
  },
  "language_info": {
   "codemirror_mode": {
    "name": "ipython",
    "version": 3
   },
   "file_extension": ".py",
   "mimetype": "text/x-python",
   "name": "python",
   "nbconvert_exporter": "python",
   "pygments_lexer": "ipython3",
   "version": "3.5.2"
  }
 },
 "nbformat": 4,
 "nbformat_minor": 2
}
