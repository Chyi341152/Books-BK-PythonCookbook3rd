{
 "cells": [
  {
   "cell_type": "markdown",
   "metadata": {},
   "source": [
    "# 3.1. Rounding Numerical Values"
   ]
  },
  {
   "cell_type": "code",
   "execution_count": 8,
   "metadata": {},
   "outputs": [
    {
     "data": {
      "text/plain": [
       "1627730"
      ]
     },
     "execution_count": 8,
     "metadata": {},
     "output_type": "execute_result"
    }
   ],
   "source": [
    "# round(value, ndigits) function\n",
    "round(1.23,1)\n",
    "round(1.27,1)\n",
    "\n",
    "# When a value is exactly halfway between two choices, the behavior of round is to round to the nearest even digit\n",
    "round(1.5,0)\n",
    "round(3.5,0)\n",
    "round(1627731,-1) # negative rounding takes place for tens, hundreds, thousands"
   ]
  },
  {
   "cell_type": "markdown",
   "metadata": {},
   "source": [
    "# 3.2. Performing Accurate Decimal Calculations\n"
   ]
  },
  {
   "cell_type": "code",
   "execution_count": 16,
   "metadata": {},
   "outputs": [
    {
     "name": "stdout",
     "output_type": "stream",
     "text": [
      "0.7647058823529411764705882353\n",
      "0.765\n",
      "0.7647058823529411764705882352941176470588235294117647058823529411764705882352941176470588235294117647\n"
     ]
    }
   ],
   "source": [
    "# A well-known issue with floating-point numbers is that they can't accurately represent all base-10 decimals \n",
    "a = 4.2\n",
    "b = 2.1\n",
    "a+b\n",
    "(a + b) == 6.3\n",
    "from decimal import Decimal\n",
    "a = Decimal('4.2')\n",
    "b = Decimal('2.1')\n",
    "( a + b ) == Decimal('6.3')\n",
    "from decimal import localcontext\n",
    "a = Decimal('1.3')\n",
    "b = Decimal('1.7')\n",
    "print(a / b)\n",
    "with localcontext() as ctx:\n",
    "    ctx.prec = 3 \n",
    "    print(a/b)\n",
    "\n",
    "with localcontext() as ctx:\n",
    "    ctx.prec = 100\n",
    "    print(a/b)"
   ]
  },
  {
   "cell_type": "markdown",
   "metadata": {},
   "source": [
    "# 3.3. Formatting Numbers for Output"
   ]
  },
  {
   "cell_type": "code",
   "execution_count": null,
   "metadata": {},
   "outputs": [],
   "source": []
  }
 ],
 "metadata": {
  "kernelspec": {
   "display_name": "Python 3",
   "language": "python",
   "name": "python3"
  },
  "language_info": {
   "codemirror_mode": {
    "name": "ipython",
    "version": 3
   },
   "file_extension": ".py",
   "mimetype": "text/x-python",
   "name": "python",
   "nbconvert_exporter": "python",
   "pygments_lexer": "ipython3",
   "version": "3.5.2"
  }
 },
 "nbformat": 4,
 "nbformat_minor": 2
}
