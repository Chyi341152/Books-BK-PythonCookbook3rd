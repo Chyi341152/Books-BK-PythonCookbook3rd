{
 "cells": [
  {
   "cell_type": "markdown",
   "metadata": {},
   "source": [
    "# 3.1. Rounding Numerical Values"
   ]
  },
  {
   "cell_type": "code",
   "execution_count": 8,
   "metadata": {},
   "outputs": [
    {
     "data": {
      "text/plain": [
       "1627730"
      ]
     },
     "execution_count": 8,
     "metadata": {},
     "output_type": "execute_result"
    }
   ],
   "source": [
    "# round(value, ndigits) function\n",
    "round(1.23,1)\n",
    "round(1.27,1)\n",
    "\n",
    "# When a value is exactly halfway between two choices, the behavior of round is to round to the nearest even digit\n",
    "round(1.5,0)\n",
    "round(3.5,0)\n",
    "round(1627731,-1) # negative rounding takes place for tens, hundreds, thousands"
   ]
  },
  {
   "cell_type": "markdown",
   "metadata": {},
   "source": [
    "# 3.2. Performing Accurate Decimal Calculations\n"
   ]
  },
  {
   "cell_type": "code",
   "execution_count": 16,
   "metadata": {},
   "outputs": [
    {
     "name": "stdout",
     "output_type": "stream",
     "text": [
      "0.7647058823529411764705882353\n",
      "0.765\n",
      "0.7647058823529411764705882352941176470588235294117647058823529411764705882352941176470588235294117647\n"
     ]
    }
   ],
   "source": [
    "# A well-known issue with floating-point numbers is that they can't accurately represent all base-10 decimals \n",
    "a = 4.2\n",
    "b = 2.1\n",
    "a+b\n",
    "(a + b) == 6.3\n",
    "from decimal import Decimal\n",
    "a = Decimal('4.2')\n",
    "b = Decimal('2.1')\n",
    "( a + b ) == Decimal('6.3')\n",
    "from decimal import localcontext\n",
    "a = Decimal('1.3')\n",
    "b = Decimal('1.7')\n",
    "print(a / b)\n",
    "with localcontext() as ctx:\n",
    "    ctx.prec = 3 \n",
    "    print(a/b)\n",
    "\n",
    "with localcontext() as ctx:\n",
    "    ctx.prec = 100\n",
    "    print(a/b)"
   ]
  },
  {
   "cell_type": "markdown",
   "metadata": {},
   "source": [
    "# 3.3. Formatting Numbers for Output"
   ]
  },
  {
   "cell_type": "code",
   "execution_count": 9,
   "metadata": {},
   "outputs": [
    {
     "data": {
      "text/plain": [
       "'1.23E+03'"
      ]
     },
     "execution_count": 9,
     "metadata": {},
     "output_type": "execute_result"
    }
   ],
   "source": [
    "# To format a single number for output\n",
    "x = 1234.5678\n",
    "\n",
    "# Two decimal places of accuracy \n",
    "format(x, '0.2f')\n",
    "\n",
    "# Right justfied in 10 chars, one-digit accuracy \n",
    "format(x, '>10.1f')\n",
    "\n",
    "# Left justfied \n",
    "format(x, '<10.1f')\n",
    "\n",
    "# Centered \n",
    "format(x, '^10.1f')\n",
    "\n",
    "# Inclusion of thousands separator \n",
    "format(x, ',')\n",
    "format(x, ',.1f')\n",
    "\n",
    "# use exponential notation \n",
    "format(x, 'e')\n",
    "format(x, '0.2E')"
   ]
  },
  {
   "cell_type": "markdown",
   "metadata": {},
   "source": [
    "# 3.4. Working with Binary,Octal,and Hexadecimal Integers"
   ]
  },
  {
   "cell_type": "code",
   "execution_count": 21,
   "metadata": {},
   "outputs": [],
   "source": [
    "# To convert an integer into a binary, octal, or hexadecimal text string, use the bin(), oct(), or hex() function \n",
    "x = 1234\n",
    "bin(x)\n",
    "oct(x)\n",
    "hex(x)\n",
    "\n",
    "# use the format() function if you don't want the 0b, 0o, 0x prefixes to appear\n",
    "format(x, 'b')\n",
    "format(x,'o')\n",
    "format(x,'x')\n",
    "\n",
    "# To convert integer strings in different bases, simply use the int() function with an appropriate base\n",
    "int('4d2',16)\n",
    "int('10011010010',2)\n",
    "\n",
    "# The Python syntax for specifying octal values is slightly different than many other languages \n",
    "import os \n",
    "#os.chmod('abc.py',0o775)"
   ]
  },
  {
   "cell_type": "markdown",
   "metadata": {},
   "source": [
    "# 3.5.Packing and Unpacking Large Integers from Bytes"
   ]
  },
  {
   "cell_type": "code",
   "execution_count": 29,
   "metadata": {},
   "outputs": [
    {
     "data": {
      "text/plain": [
       "94522842520747284487117727783387188"
      ]
     },
     "execution_count": 29,
     "metadata": {},
     "output_type": "execute_result"
    }
   ],
   "source": [
    "data = b'\\x00\\x124V\\x00x\\x90\\xab\\x00\\xcd\\xef\\x01\\x00#\\x004'\n",
    "len(data)\n",
    "# To interpret the bytes as an integer, use int.from_bytes()\n",
    "int.from_bytes(data, 'little')\n",
    "int.from_bytes(data, 'big')\n",
    "\n",
    "# To large integer value back into a byte string, use the int.to_bytes() method \n",
    "x = 94522842520747284487117727783387188\n",
    "x.to_bytes(16, 'big')\n",
    "x.to_bytes(16, 'little')\n",
    "\n",
    "data = x.to_bytes(16, 'big')\n",
    "import struct \n",
    "hi, lo = struct.unpack('>QQ', data)\n",
    "(hi << 64) + lo"
   ]
  },
  {
   "cell_type": "markdown",
   "metadata": {},
   "source": [
    "# 3.6. Performing Complex-Valued Math"
   ]
  },
  {
   "cell_type": "code",
   "execution_count": 42,
   "metadata": {},
   "outputs": [
    {
     "name": "stdout",
     "output_type": "stream",
     "text": [
      "(2+4j) (3-5j)\n",
      "2.0 3.0\n",
      "4.0 -5.0\n",
      "(2-4j) (3+5j)\n",
      "(5-1j) (-1+9j) (26+2j) (-0.4117647058823529+0.6470588235294118j) 4.47213595499958 5.830951894845301\n",
      "(24.83130584894638-11.356612711218173j) (-11.36423470640106-24.814651485634183j) (-4.829809383269385-5.5920560936409816j)\n"
     ]
    },
    {
     "data": {
      "text/plain": [
       "array([   9.15449915  -4.16890696j,  -56.16227422 -48.50245524j,\n",
       "       -153.20827755-526.47684926j, 4008.42651446-589.49948373j])"
      ]
     },
     "execution_count": 42,
     "metadata": {},
     "output_type": "execute_result"
    }
   ],
   "source": [
    "# Complex numbers can be specified using the complex(real, imag) function or by floating-point numbers with a j suffix \n",
    "a = complex(2,4)\n",
    "b = 3 - 5j \n",
    "print(a,b)\n",
    "print(a.real, b.real)\n",
    "print(a.imag, b.imag)\n",
    "print(a.conjugate(), b.conjugate())\n",
    "print(a+b, a-b, a*b, a/b, abs(a), abs(b))\n",
    "\n",
    "import cmath # cmath declare the use of a complex type in libraries\n",
    "print(cmath.sin(a), cmath.cos(a), cmath.exp(a))\n",
    "\n",
    "import numpy as np \n",
    "a = np.array([2+3j, 4+5j, 6-7j, 8+9j])\n",
    "a + 2\n",
    "np.sin(a)\n",
    "\n",
    "# Python standard mathematical functions do not produce complex values by default"
   ]
  },
  {
   "cell_type": "markdown",
   "metadata": {},
   "source": [
    "# 3.7. Working with Infinity and NaNs"
   ]
  },
  {
   "cell_type": "code",
   "execution_count": 58,
   "metadata": {},
   "outputs": [
    {
     "name": "stdout",
     "output_type": "stream",
     "text": [
      "inf -inf nan\n"
     ]
    },
    {
     "data": {
      "text/plain": [
       "True"
      ]
     },
     "execution_count": 58,
     "metadata": {},
     "output_type": "execute_result"
    }
   ],
   "source": [
    "import math \n",
    "\n",
    "a = float('inf')\n",
    "b = float('-inf')\n",
    "c = float('nan')\n",
    "print(a,b,c)\n",
    "# To test for the presence of these values \n",
    "math.isinf(a)\n",
    "math.isnan(c)\n",
    "\n",
    "# Infinite value 无穷\n",
    "a = float('inf') + 45\n",
    "10/a\n",
    "a = float('inf')\n",
    "a/a\n",
    "b = float('-inf')\n",
    "a+b\n",
    "\n",
    "# NaN values propagate through all operations without raising an exception \n",
    "c = float('nan')\n",
    "c + 23\n",
    "c/2\n",
    "c*2\n",
    "math.sqrt(c)\n",
    "\n",
    "# NaN values is that they never compare as equal \n",
    "c = float('nan')\n",
    "d = float('nan')\n",
    "c == d\n",
    "math.isnan(np.nan)"
   ]
  },
  {
   "cell_type": "markdown",
   "metadata": {},
   "source": [
    "# 3.8. Calculating with Fractions(分数)"
   ]
  },
  {
   "cell_type": "code",
   "execution_count": 67,
   "metadata": {},
   "outputs": [
    {
     "name": "stdout",
     "output_type": "stream",
     "text": [
      "27/16\n",
      "35/64\n",
      "4/7\n"
     ]
    },
    {
     "data": {
      "text/plain": [
       "Fraction(15, 4)"
      ]
     },
     "execution_count": 67,
     "metadata": {},
     "output_type": "execute_result"
    }
   ],
   "source": [
    "from fractions import Fraction \n",
    "a = Fraction(5,4)\n",
    "b = Fraction(7,16)\n",
    "print(a+b)\n",
    "print(a*b)\n",
    "\n",
    "# Getting numerator/denominator \n",
    "c = a * b\n",
    "c.numerator\n",
    "c.denominator\n",
    "\n",
    "# Converting to a float\n",
    "float(c)\n",
    "\n",
    "# Limiting the denominator of a value \n",
    "print(c.limit_denominator(8))\n",
    "\n",
    "# Converting a float to a fraction \n",
    "x = 3.75 \n",
    "y = Fraction(*x.as_integer_ratio())\n",
    "y"
   ]
  },
  {
   "cell_type": "markdown",
   "metadata": {},
   "source": [
    "# 3.9. Calculating with Large Numerical Arrays"
   ]
  },
  {
   "cell_type": "code",
   "execution_count": 90,
   "metadata": {},
   "outputs": [
    {
     "name": "stdout",
     "output_type": "stream",
     "text": [
      "[[ 1  2  3  4]\n",
      " [ 5  6  7  8]\n",
      " [ 9 10 11 12]]\n",
      "[[101 103 105 107]\n",
      " [105 117 119 111]\n",
      " [109 121 123 115]]\n"
     ]
    },
    {
     "data": {
      "text/plain": [
       "array([[ 1,  2,  3,  4],\n",
       "       [ 5, 10, 10,  8],\n",
       "       [ 9, 10, 10, 10]])"
      ]
     },
     "execution_count": 90,
     "metadata": {},
     "output_type": "execute_result"
    }
   ],
   "source": [
    "# The NumPy library. The major feature of NumPy is that it gives Python an array object that is much more efficient and better suited for mathematical calculation than a standard Python List\n",
    "# Python lists \n",
    "x = [1,2,3,4]\n",
    "y = [5,6,7,8]\n",
    "x * 2\n",
    "#x + 10\n",
    "x + y\n",
    "\n",
    "# Numpy arrays \n",
    "import numpy as np \n",
    "ax = np.array([1,2,3,4])\n",
    "ay = np.array([5,6,7,8])\n",
    "ax * 2\n",
    "ax + 10\n",
    "ax+ay\n",
    "ax*ay\n",
    "\n",
    "np.sqrt(ax)\n",
    "np.cos(ax)\n",
    "\n",
    "grid = np.zeros(shape=(10000, 10000), dtype=float)\n",
    "grid += 10\n",
    "#np.sin(grid)\n",
    "\n",
    "a = np.array([[1,2,3,4],[5,6,7,8],[9,10,11,12]])\n",
    "print(a)\n",
    "\n",
    "# Select row 1\n",
    "a[1]\n",
    "\n",
    "# Select column 1 \n",
    "a[:,1]\n",
    "\n",
    "# Select a subregion and change it \n",
    "a[1:3, 1:3] += 10 \n",
    "\n",
    "# Broadcast a row vector across an operation on all rows\n",
    "print(a + [100, 101, 102, 103])\n",
    "\n",
    "# Confitional assignment on an array \n",
    "np.where(a < 10, a, 10)"
   ]
  },
  {
   "cell_type": "markdown",
   "metadata": {},
   "source": [
    "# 3.10. Performing Matrix and Linear Algebra Calculations"
   ]
  },
  {
   "cell_type": "code",
   "execution_count": 97,
   "metadata": {},
   "outputs": [
    {
     "data": {
      "text/plain": [
       "matrix([[ 8],\n",
       "        [32],\n",
       "        [ 2]])"
      ]
     },
     "execution_count": 97,
     "metadata": {},
     "output_type": "execute_result"
    }
   ],
   "source": [
    "import numpy as np \n",
    "m = np.matrix([[1,-2,3],[0,4,5],[7,8,-9]])\n",
    "\n",
    "# Return transpose \n",
    "m.T\n",
    "\n",
    "# Return inverse \n",
    "m.I \n",
    "\n",
    "# Create a vector and multiply \n",
    "v = np.matrix([[2],[3],[4]])\n",
    "m * v "
   ]
  },
  {
   "cell_type": "markdown",
   "metadata": {},
   "source": [
    "# 3.11. Picking Things at Random"
   ]
  },
  {
   "cell_type": "code",
   "execution_count": 134,
   "metadata": {},
   "outputs": [
    {
     "name": "stdout",
     "output_type": "stream",
     "text": [
      "183791128314085330743114982343\n"
     ]
    }
   ],
   "source": [
    "# The random module has various functions for random numbers and picking random items\n",
    "import random \n",
    "values = [1, 2, 3, 4, 5, 6]\n",
    "random.choice(values)\n",
    "\n",
    "# To take a sampling of N items where selected items are removed from further consideration \n",
    "random.sample(values, 2)\n",
    "random.sample(values, 2)\n",
    "\n",
    "# shuffle items in a sequence in place \n",
    "random.shuffle(values)\n",
    "\n",
    "# Produce random integers, use random.randint()\n",
    "random.randint(0, 10)\n",
    "\n",
    "# Produce uniform floating-point values in the range 0 to 1, use random.random()\n",
    "random.random()\n",
    "\n",
    "# get N random-bits expressed as an integer \n",
    "print(random.getrandbits(100))\n",
    "\n",
    "# Random module computes random numbers using the Mersenne Twister algorithm\n",
    "random.seed() # Seed based on system time or os.urandom() \n",
    "random.seed(12345) # Seed based on integer given \n",
    "random.seed(b'bytedata') # Seed based on byte data \n",
    "\n",
    "# random() includes functions for uniform, Gaussian, and other probabality distributions \n",
    "#random.uniform() # computes uniformly\n",
    "#random.gauss() # gauss "
   ]
  },
  {
   "cell_type": "markdown",
   "metadata": {},
   "source": [
    "# 3.12. Converting Days to Seconds, and Other Basic Time Conversions"
   ]
  },
  {
   "cell_type": "code",
   "execution_count": 154,
   "metadata": {},
   "outputs": [
    {
     "name": "stdout",
     "output_type": "stream",
     "text": [
      "2012-10-03 00:00:00\n",
      "2018-01-24 18:02:25.935459\n",
      "2018-01-24 18:12:25.935459\n"
     ]
    },
    {
     "data": {
      "text/plain": [
       "2"
      ]
     },
     "execution_count": 154,
     "metadata": {},
     "output_type": "execute_result"
    }
   ],
   "source": [
    "from datetime import timedelta\n",
    "a = timedelta(days=2, hours=6)\n",
    "b = timedelta(hours=4.5)\n",
    "c = a + b\n",
    "c.days\n",
    "c.seconds\n",
    "c.total_seconds() / 3600\n",
    "\n",
    "# Represent specific dates and times, create datetime instance \n",
    "from datetime import datetime \n",
    "a = datetime(2012, 9, 23)\n",
    "print(a + timedelta(days=10))\n",
    "b = datetime(2012, 12, 21)\n",
    "d = b-a\n",
    "d.days\n",
    "now = datetime.today()\n",
    "print(now)\n",
    "print(now + timedelta(minutes=10))\n",
    "\n",
    "# noted that datetime is aware of leap years \n",
    "a = datetime(2012, 3, 1)\n",
    "b = datetime(2012, 2, 28)\n",
    "(a-b).days\n",
    "\n",
    "c = datetime(2013, 3, 1)\n",
    "d = datetime(2013, 2, 28)\n",
    "(c-d).days\n",
    "\n",
    "a = datetime(2012, 9, 23)\n",
    "from dateutil.relativedelta import relativedelta\n",
    "a + relativedelta(months=+1)\n",
    "a + relativedelta(months=+4)\n",
    "\n",
    "# Time between two dates\n",
    "b = datetime(2012, 12, 21)\n",
    "d = b - a\n",
    "d = relativedelta(b,a)\n",
    "d.months"
   ]
  },
  {
   "cell_type": "markdown",
   "metadata": {},
   "source": [
    "# 3.13. Determining Last Friday's Date"
   ]
  },
  {
   "cell_type": "code",
   "execution_count": 163,
   "metadata": {},
   "outputs": [
    {
     "name": "stdout",
     "output_type": "stream",
     "text": [
      "2018-01-24 18:18:46.870022\n",
      "2018-01-26 18:18:46.870022\n",
      "2018-01-19 18:18:46.870022\n"
     ]
    }
   ],
   "source": [
    "from datetime import datetime, timedelta \n",
    "\n",
    "weekdays = ['Monday', 'Tuesday', 'Wednesday', 'Thurday', 'Friday', 'Saturday', 'Sunday']\n",
    "\n",
    "def get_previous_byday(dayname, start_date=None):\n",
    "    if start_date is None:\n",
    "        start_date = datetime.today() \n",
    "    day_num = start_date.weekday()\n",
    "    day_num_target = weekdays.index(dayname)\n",
    "    days_ago = (7 + day_num - day_num_target) % 7\n",
    "    if days_ago == 0:\n",
    "        days_ago = 7\n",
    "    target_date = start_date - timedelta(days=days_ago)\n",
    "    return target_date\n",
    "\n",
    "datetime.today() # For reference \n",
    "get_previous_byday('Monday')\n",
    "get_previous_byday('Wednesday')\n",
    "get_previous_byday('Sunday', datetime(2012, 12, 21))\n",
    "\n",
    "from datetime import datetime \n",
    "from dateutil.relativedelta import relativedelta \n",
    "from dateutil.rrule import * \n",
    "\n",
    "d = datetime.now()\n",
    "print(d)\n",
    "\n",
    "# Next Friday \n",
    "print(d + relativedelta(weekday=FR))\n",
    "\n",
    "# Last Friday \n",
    "print(d + relativedelta(weekday=FR(-1)))"
   ]
  },
  {
   "cell_type": "markdown",
   "metadata": {},
   "source": [
    "# 3.14. Finding the Date Range for the Current Month"
   ]
  },
  {
   "cell_type": "code",
   "execution_count": 167,
   "metadata": {},
   "outputs": [
    {
     "name": "stdout",
     "output_type": "stream",
     "text": [
      "2018-01-01\n",
      "2018-01-02\n",
      "2018-01-03\n",
      "2018-01-04\n",
      "2018-01-05\n",
      "2018-01-06\n",
      "2018-01-07\n",
      "2018-01-08\n",
      "2018-01-09\n",
      "2018-01-10\n",
      "2018-01-11\n",
      "2018-01-12\n",
      "2018-01-13\n",
      "2018-01-14\n",
      "2018-01-15\n",
      "2018-01-16\n",
      "2018-01-17\n",
      "2018-01-18\n",
      "2018-01-19\n",
      "2018-01-20\n",
      "2018-01-21\n",
      "2018-01-22\n",
      "2018-01-23\n",
      "2018-01-24\n",
      "2018-01-25\n",
      "2018-01-26\n",
      "2018-01-27\n",
      "2018-01-28\n",
      "2018-01-29\n",
      "2018-01-30\n",
      "2018-01-31\n",
      "2012-09-01 00:00:00\n",
      "2012-09-01 06:00:00\n",
      "2012-09-01 12:00:00\n",
      "2012-09-01 18:00:00\n",
      "2012-09-02 00:00:00\n",
      "2012-09-02 06:00:00\n",
      "2012-09-02 12:00:00\n",
      "2012-09-02 18:00:00\n",
      "2012-09-03 00:00:00\n",
      "2012-09-03 06:00:00\n",
      "2012-09-03 12:00:00\n",
      "2012-09-03 18:00:00\n",
      "2012-09-04 00:00:00\n",
      "2012-09-04 06:00:00\n",
      "2012-09-04 12:00:00\n",
      "2012-09-04 18:00:00\n",
      "2012-09-05 00:00:00\n",
      "2012-09-05 06:00:00\n",
      "2012-09-05 12:00:00\n",
      "2012-09-05 18:00:00\n",
      "2012-09-06 00:00:00\n",
      "2012-09-06 06:00:00\n",
      "2012-09-06 12:00:00\n",
      "2012-09-06 18:00:00\n",
      "2012-09-07 00:00:00\n",
      "2012-09-07 06:00:00\n",
      "2012-09-07 12:00:00\n",
      "2012-09-07 18:00:00\n",
      "2012-09-08 00:00:00\n",
      "2012-09-08 06:00:00\n",
      "2012-09-08 12:00:00\n",
      "2012-09-08 18:00:00\n",
      "2012-09-09 00:00:00\n",
      "2012-09-09 06:00:00\n",
      "2012-09-09 12:00:00\n",
      "2012-09-09 18:00:00\n",
      "2012-09-10 00:00:00\n",
      "2012-09-10 06:00:00\n",
      "2012-09-10 12:00:00\n",
      "2012-09-10 18:00:00\n",
      "2012-09-11 00:00:00\n",
      "2012-09-11 06:00:00\n",
      "2012-09-11 12:00:00\n",
      "2012-09-11 18:00:00\n",
      "2012-09-12 00:00:00\n",
      "2012-09-12 06:00:00\n",
      "2012-09-12 12:00:00\n",
      "2012-09-12 18:00:00\n",
      "2012-09-13 00:00:00\n",
      "2012-09-13 06:00:00\n",
      "2012-09-13 12:00:00\n",
      "2012-09-13 18:00:00\n",
      "2012-09-14 00:00:00\n",
      "2012-09-14 06:00:00\n",
      "2012-09-14 12:00:00\n",
      "2012-09-14 18:00:00\n",
      "2012-09-15 00:00:00\n",
      "2012-09-15 06:00:00\n",
      "2012-09-15 12:00:00\n",
      "2012-09-15 18:00:00\n",
      "2012-09-16 00:00:00\n",
      "2012-09-16 06:00:00\n",
      "2012-09-16 12:00:00\n",
      "2012-09-16 18:00:00\n",
      "2012-09-17 00:00:00\n",
      "2012-09-17 06:00:00\n",
      "2012-09-17 12:00:00\n",
      "2012-09-17 18:00:00\n",
      "2012-09-18 00:00:00\n",
      "2012-09-18 06:00:00\n",
      "2012-09-18 12:00:00\n",
      "2012-09-18 18:00:00\n",
      "2012-09-19 00:00:00\n",
      "2012-09-19 06:00:00\n",
      "2012-09-19 12:00:00\n",
      "2012-09-19 18:00:00\n",
      "2012-09-20 00:00:00\n",
      "2012-09-20 06:00:00\n",
      "2012-09-20 12:00:00\n",
      "2012-09-20 18:00:00\n",
      "2012-09-21 00:00:00\n",
      "2012-09-21 06:00:00\n",
      "2012-09-21 12:00:00\n",
      "2012-09-21 18:00:00\n",
      "2012-09-22 00:00:00\n",
      "2012-09-22 06:00:00\n",
      "2012-09-22 12:00:00\n",
      "2012-09-22 18:00:00\n",
      "2012-09-23 00:00:00\n",
      "2012-09-23 06:00:00\n",
      "2012-09-23 12:00:00\n",
      "2012-09-23 18:00:00\n",
      "2012-09-24 00:00:00\n",
      "2012-09-24 06:00:00\n",
      "2012-09-24 12:00:00\n",
      "2012-09-24 18:00:00\n",
      "2012-09-25 00:00:00\n",
      "2012-09-25 06:00:00\n",
      "2012-09-25 12:00:00\n",
      "2012-09-25 18:00:00\n",
      "2012-09-26 00:00:00\n",
      "2012-09-26 06:00:00\n",
      "2012-09-26 12:00:00\n",
      "2012-09-26 18:00:00\n",
      "2012-09-27 00:00:00\n",
      "2012-09-27 06:00:00\n",
      "2012-09-27 12:00:00\n",
      "2012-09-27 18:00:00\n",
      "2012-09-28 00:00:00\n",
      "2012-09-28 06:00:00\n",
      "2012-09-28 12:00:00\n",
      "2012-09-28 18:00:00\n",
      "2012-09-29 00:00:00\n",
      "2012-09-29 06:00:00\n",
      "2012-09-29 12:00:00\n",
      "2012-09-29 18:00:00\n",
      "2012-09-30 00:00:00\n",
      "2012-09-30 06:00:00\n",
      "2012-09-30 12:00:00\n",
      "2012-09-30 18:00:00\n"
     ]
    }
   ],
   "source": [
    "from datetime import datetime, date, timedelta \n",
    "import calendar \n",
    "\n",
    "def get_month_range(start_date=None):\n",
    "    if start_date is None:\n",
    "        start_date = date.today().replace(day=1)\n",
    "    _, days_in_month = calendar.monthrange(start_date.year, start_date.month) # find out how many days are inthe month in question\n",
    "    end_date = start_date + timedelta(days=days_in_month)\n",
    "    return (start_date, end_date)\n",
    "\n",
    "a_day = timedelta(days=1)\n",
    "first_day, last_day = get_month_range()\n",
    "\n",
    "while first_day < last_day:\n",
    "    print(first_day)\n",
    "    first_day += a_day\n",
    "\n",
    "def date_range(start, stop, step):\n",
    "    while start < stop:\n",
    "        yield start \n",
    "        start += step \n",
    "\n",
    "for d in date_range(datetime(2012, 9, 1), datetime(2012, 10, 1), timedelta(hours=6)):\n",
    "    print(d)"
   ]
  },
  {
   "cell_type": "markdown",
   "metadata": {},
   "source": [
    "# 3.15. Converting Strings into Datetimes"
   ]
  },
  {
   "cell_type": "code",
   "execution_count": 174,
   "metadata": {},
   "outputs": [],
   "source": [
    "from datetime import datetime\n",
    "text = '2012-09-20'\n",
    "# striptime written in pure Python \n",
    "y = datetime.strptime(text, '%Y-%m-%d')\n",
    "z = datetime.now()\n",
    "diff = z - y\n",
    "diff\n",
    "z\n",
    "nice_z = datetime.strftime(z, '%A %B %d, %Y')\n",
    "nice_z\n",
    "\n",
    "from datetime import datetime\n",
    "\n",
    "def parse_ymd(s):\n",
    "    year_s, mon_s, day_s = s.split('-')\n",
    "    return datetime(int(year_s), int(mon_s), int(day_s))"
   ]
  },
  {
   "cell_type": "markdown",
   "metadata": {},
   "source": [
    "# 3.16. Manipulating Dates Involving Time Zones"
   ]
  },
  {
   "cell_type": "code",
   "execution_count": 188,
   "metadata": {},
   "outputs": [
    {
     "name": "stdout",
     "output_type": "stream",
     "text": [
      "2012-12-21 09:30:00\n",
      "2012-12-21 09:30:00-06:00\n",
      "2012-12-21 21:00:00+05:30\n",
      "2013-03-10 01:45:00-06:00\n",
      "2013-03-10 02:15:00-06:00\n",
      "2013-03-10 03:15:00-05:00\n",
      "2013-03-10 07:45:00+00:00\n",
      "2013-03-10 03:15:00-05:00\n"
     ]
    },
    {
     "data": {
      "text/plain": [
       "['Asia/Shanghai', 'Asia/Urumqi']"
      ]
     },
     "execution_count": 188,
     "metadata": {},
     "output_type": "execute_result"
    }
   ],
   "source": [
    "# involving time zones, you should use the pytz module\n",
    "# provides the Olson time zone database \n",
    "from datetime import datetime \n",
    "from pytz import timezone \n",
    "\n",
    "d = datetime(2012, 12, 21, 9, 30, 0)\n",
    "print(d)\n",
    "\n",
    "# Localize the date for Chicago\n",
    "central = timezone('US/Central')\n",
    "loc_d = central.localize(d)\n",
    "print(loc_d)\n",
    "\n",
    "# Convert to Bangalore time \n",
    "bang_d = loc_d.astimezone(timezone('Asia/Kolkata'))\n",
    "print(bang_d)\n",
    "\n",
    "d = datetime(2013, 3, 10, 1, 45)\n",
    "loc_d = central.localize(d)\n",
    "print(loc_d)\n",
    "\n",
    "later = loc_d + timedelta(minutes=30)\n",
    "print(later)\n",
    "\n",
    "from datetime import timedelta\n",
    "later = central.normalize(loc_d + timedelta(minutes=30))\n",
    "print(later)\n",
    "\n",
    "import pytz \n",
    "# convert all dates to UTC time \n",
    "utc_d = loc_d.astimezone(pytz.utc)\n",
    "print(utc_d)\n",
    "\n",
    "later_utc = utc_d + timedelta(minutes=30)\n",
    "print(later_utc.astimezone(central))\n",
    "\n",
    "pytz.country_timezones['CN'] # 'Asia/Shanghai', 'Asia/Urumqi'乌鲁木齐"
   ]
  }
 ],
 "metadata": {
  "kernelspec": {
   "display_name": "Python 3",
   "language": "python",
   "name": "python3"
  },
  "language_info": {
   "codemirror_mode": {
    "name": "ipython",
    "version": 3
   },
   "file_extension": ".py",
   "mimetype": "text/x-python",
   "name": "python",
   "nbconvert_exporter": "python",
   "pygments_lexer": "ipython3",
   "version": "3.5.2"
  }
 },
 "nbformat": 4,
 "nbformat_minor": 2
}
