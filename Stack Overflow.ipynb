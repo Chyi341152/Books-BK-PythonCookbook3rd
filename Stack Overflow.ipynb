{
 "cells": [
  {
   "cell_type": "markdown",
   "metadata": {},
   "source": [
    "# 1. Efficient date range overlap calculation in python?"
   ]
  },
  {
   "cell_type": "code",
   "execution_count": 2,
   "metadata": {},
   "outputs": [
    {
     "data": {
      "text/plain": [
       "496"
      ]
     },
     "execution_count": 2,
     "metadata": {},
     "output_type": "execute_result"
    }
   ],
   "source": [
    "from datetime import datetime\n",
    "from collections import namedtuple \n",
    "\n",
    "# Datermine the latest of the two start dates and the earliest of the two end dates\n",
    "# \n",
    "\n",
    "Range = namedtuple('Range', ['start', 'end'])\n",
    "r1 = Range(start=datetime(2005, 4, 1), end=datetime(2012, 5, 10))\n",
    "r2 = Range(start=datetime(2011, 1, 1), end=datetime(2018, 1, 22))\n",
    "latest_start = max(r1.start, r2.start)\n",
    "earliest_end = min(r1.end, r2.end)\n",
    "overlap = (earliest_end - latest_start).days + 1\n",
    "overlap"
   ]
  },
  {
   "cell_type": "markdown",
   "metadata": {},
   "source": [
    "# 2. Using Python logging in multiple modules"
   ]
  },
  {
   "cell_type": "code",
   "execution_count": 1,
   "metadata": {},
   "outputs": [],
   "source": [
    "# Best practices is , in each module, to have a logger defined \n",
    "import logging\n",
    "logger = logging.getLogger(__name__)\n",
    "\n",
    "# near the top of the module, then in other code in the module \n",
    "logger.debug('My message with %s', 'variable data')\n",
    "\n",
    "# if you need to subdivide logging activity inside a module \n",
    "loggerA = logging.getLogger(__name__ + '.A')\n",
    "loggerB = logging.getLogger(__name__ + '.B')\n",
    "\n",
    "def main():\n",
    "    print(\"Hello Macintosh 1984\")\n",
    "\n",
    "if __name__ == '__main__':\n",
    "    import logging.config "
   ]
  },
  {
   "cell_type": "markdown",
   "metadata": {},
   "source": [
    "# 3. Pycharm and sys.argv arguments"
   ]
  },
  {
   "cell_type": "markdown",
   "metadata": {},
   "source": [
    "In PyCharm the parameters are added in the \"Script Parameters\" as you did but,they are enclosed in double quotes \"\" and without specifying the Interpreter flags like -s.Those flags are specified in the Interpreter oprions box.\n",
    "\n",
    "Script Parameters box contents:\n",
    "    \"../../data/ip2region.db\"\n",
    "Interpeter flags\n",
    "    -s "
   ]
  },
  {
   "cell_type": "markdown",
   "metadata": {},
   "source": [
    "# 4. PyCharm: How to debug 'raw_input()' input from keyboard?"
   ]
  },
  {
   "cell_type": "markdown",
   "metadata": {},
   "source": [
    "I can't figure out how to input from my keyboard while debugging the program. The only place i can "
   ]
  },
  {
   "cell_type": "code",
   "execution_count": null,
   "metadata": {},
   "outputs": [],
   "source": []
  },
  {
   "cell_type": "code",
   "execution_count": null,
   "metadata": {},
   "outputs": [],
   "source": []
  }
 ],
 "metadata": {
  "kernelspec": {
   "display_name": "Python 3",
   "language": "python",
   "name": "python3"
  },
  "language_info": {
   "codemirror_mode": {
    "name": "ipython",
    "version": 3
   },
   "file_extension": ".py",
   "mimetype": "text/x-python",
   "name": "python",
   "nbconvert_exporter": "python",
   "pygments_lexer": "ipython3",
   "version": "3.5.2"
  }
 },
 "nbformat": 4,
 "nbformat_minor": 2
}
