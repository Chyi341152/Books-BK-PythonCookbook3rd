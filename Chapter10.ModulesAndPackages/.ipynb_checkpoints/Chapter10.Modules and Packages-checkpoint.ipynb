{
 "cells": [
  {
   "cell_type": "markdown",
   "metadata": {},
   "source": [
    "# 10.1. Making a Hierarchical Package of Modules"
   ]
  },
  {
   "cell_type": "code",
   "execution_count": null,
   "metadata": {},
   "outputs": [],
   "source": [
    "# Marking a package structure is simple. defines an __init__.py file.\n",
    "'''\n",
    "graphics/\n",
    "    __init__.py \n",
    "    primitive/\n",
    "        __init__.py\n",
    "        line.py\n",
    "        fill.py\n",
    "        text.py \n",
    "    formats/\n",
    "        __init__.py\n",
    "        png.py\n",
    "        jpg.py \n",
    "'''\n",
    "# if you have the statement import graphics, the file graphics/__init__.py will be imported and form the contents of the graphics namespace.\n",
    "# __ini__.py file can be used to automatically load submodules\n",
    "'''\n",
    "# Graphics/formats/__init__.py\n",
    "from . import jpg \n",
    "form . import png\n",
    "'''"
   ]
  },
  {
   "cell_type": "markdown",
   "metadata": {},
   "source": [
    "# 10.2.Controlling the Import of Everything"
   ]
  },
  {
   "cell_type": "code",
   "execution_count": null,
   "metadata": {},
   "outputs": [],
   "source": [
    "from somemodule import *\n",
    "# this form of import will export all names that don't start with an underscore.\n",
    "# __all__ is defined, then only the names explicity listed will be exported.\n",
    "# An attributeError is raised on import if __all__ contains underfined names."
   ]
  },
  {
   "cell_type": "markdown",
   "metadata": {},
   "source": [
    "# 10.3 Importing Package Submodules Using Relative Names"
   ]
  },
  {
   "cell_type": "code",
   "execution_count": null,
   "metadata": {},
   "outputs": [],
   "source": [
    "# Inside packages, imports involving modules in the same package can either use fully specified absolute names or a relative imports using the syntax shown.\n",
    "# Similarly, hardcoded names make it difficult for someone else to move the code around.\n",
    "# if you execute the preceding script using the -m option to Python, the relative imports will work propertly."
   ]
  },
  {
   "cell_type": "markdown",
   "metadata": {},
   "source": [
    "# 10.4.Splitting a Module into Multiple Files"
   ]
  },
  {
   "cell_type": "code",
   "execution_count": 3,
   "metadata": {},
   "outputs": [
    {
     "name": "stdout",
     "output_type": "stream",
     "text": [
      "A.spam\n",
      "B.bar\n"
     ]
    }
   ],
   "source": [
    "import mymodule\n",
    "a = mymodule.A()\n",
    "a.spam()\n",
    "b = mymodule.B()\n",
    "b.bar()\n",
    "\n",
    "# Package-relative imports are used throughout the recipe to avoid hardcoding the top-level module name into the source code.\n"
   ]
  },
  {
   "cell_type": "markdown",
   "metadata": {},
   "source": [
    "# 10.5. Making Separate Directories of Code Import Under a Common Namespace"
   ]
  },
  {
   "cell_type": "code",
   "execution_count": 8,
   "metadata": {},
   "outputs": [
    {
     "data": {
      "text/plain": [
       "<module 'spam' (namespace)>"
      ]
     },
     "execution_count": 8,
     "metadata": {},
     "output_type": "execute_result"
    }
   ],
   "source": [
    "# the problem here is that you would like to define a top-level Python package that serves as a namespace for a large collection of separately maintained subpackages.\n",
    "import sys\n",
    "sys.path.extend(['foo-package', 'bar-package', 'my-package'])\n",
    "import spam.blah\n",
    "import spam.grok\n",
    "import spam.custom\n",
    "# The key to making a namespace package is to make sure there are no __init__.py files in the top_level directory that is to serve as the common namespace\n",
    "spam.__path__\n",
    "spam"
   ]
  },
  {
   "cell_type": "markdown",
   "metadata": {},
   "source": [
    "# 10.6. Reloading Modules"
   ]
  },
  {
   "cell_type": "code",
   "execution_count": 26,
   "metadata": {},
   "outputs": [
    {
     "name": "stdout",
     "output_type": "stream",
     "text": [
      "bar\n",
      "grok\n",
      "bar\n",
      "grok\n",
      "New grok\n"
     ]
    }
   ],
   "source": [
    "import spam2\n",
    "from spam2 import grok\n",
    "spam2.bar()\n",
    "grok()\n",
    "import imp\n",
    "imp.reload(spam2) # reload() does not update definitions that have been imported using state-ments such as from module import name\n",
    "spam2.bar()\n",
    "grok()\n",
    "spam2.grok()"
   ]
  },
  {
   "cell_type": "markdown",
   "metadata": {},
   "source": [
    "# 10.7. Making a Directory or Zip File Runnable As a Main Script"
   ]
  },
  {
   "cell_type": "code",
   "execution_count": null,
   "metadata": {},
   "outputs": [],
   "source": [
    "# if you application program has grown into multiple files, you can put it into its own directory and add a __main__.py file.\n",
    "# if __main__.py is present, run $ python3 myapplication\n",
    "# the interpreter will execute the __main__.py file as the main program \n"
   ]
  },
  {
   "cell_type": "markdown",
   "metadata": {},
   "source": [
    "# 10.8. Reading Datafiles Within a Package"
   ]
  },
  {
   "cell_type": "code",
   "execution_count": null,
   "metadata": {},
   "outputs": [],
   "source": [
    "# The pkgutil.get_data() function is meant to be a high-level tool for getting a datafile regardless of where or how a package has been installed.\n",
    "# It will simply \"work\" and return the file contents back you as a byte string\n"
   ]
  },
  {
   "cell_type": "markdown",
   "metadata": {},
   "source": [
    "# 10.9. Adding Directories to sys.path "
   ]
  },
  {
   "cell_type": "code",
   "execution_count": 30,
   "metadata": {},
   "outputs": [
    {
     "data": {
      "text/plain": [
       "'my-package'"
      ]
     },
     "execution_count": 30,
     "metadata": {},
     "output_type": "execute_result"
    }
   ],
   "source": [
    "# Python code that can't imported because it's not located in a directory listed in sys.path\n",
    "# There are two common ways to get new directories added to sys.path.\n",
    "# First: \n",
    "#  env PYTHONPATH=/some/dir:/other/dir python3 \n",
    "\n",
    "import sys\n",
    "sys.path\n",
    "\n",
    "# create a.pth file that lists the directories like this \n",
    "sys.path[-1]\n",
    "#sys.path.insert(-1, '/some/dir')"
   ]
  },
  {
   "cell_type": "markdown",
   "metadata": {},
   "source": [
    "# 10.10. Importing Modules Using a Name Given in a String"
   ]
  },
  {
   "cell_type": "markdown",
   "metadata": {},
   "source": [
    "# 10.11. Loading Modules from a Remote Machine Using Import Hooks"
   ]
  },
  {
   "cell_type": "code",
   "execution_count": null,
   "metadata": {},
   "outputs": [],
   "source": []
  },
  {
   "cell_type": "code",
   "execution_count": null,
   "metadata": {},
   "outputs": [],
   "source": []
  },
  {
   "cell_type": "code",
   "execution_count": null,
   "metadata": {},
   "outputs": [],
   "source": []
  },
  {
   "cell_type": "code",
   "execution_count": null,
   "metadata": {},
   "outputs": [],
   "source": []
  },
  {
   "cell_type": "code",
   "execution_count": null,
   "metadata": {},
   "outputs": [],
   "source": []
  },
  {
   "cell_type": "code",
   "execution_count": null,
   "metadata": {},
   "outputs": [],
   "source": []
  },
  {
   "cell_type": "code",
   "execution_count": null,
   "metadata": {},
   "outputs": [],
   "source": []
  },
  {
   "cell_type": "code",
   "execution_count": null,
   "metadata": {},
   "outputs": [],
   "source": []
  },
  {
   "cell_type": "code",
   "execution_count": null,
   "metadata": {},
   "outputs": [],
   "source": []
  },
  {
   "cell_type": "code",
   "execution_count": null,
   "metadata": {},
   "outputs": [],
   "source": []
  }
 ],
 "metadata": {
  "kernelspec": {
   "display_name": "Python 3",
   "language": "python",
   "name": "python3"
  },
  "language_info": {
   "codemirror_mode": {
    "name": "ipython",
    "version": 3
   },
   "file_extension": ".py",
   "mimetype": "text/x-python",
   "name": "python",
   "nbconvert_exporter": "python",
   "pygments_lexer": "ipython3",
   "version": "3.5.2"
  }
 },
 "nbformat": 4,
 "nbformat_minor": 2
}
