{
 "cells": [
  {
   "cell_type": "markdown",
   "metadata": {},
   "source": [
    "# 13.1. Accepting Script Input via Redirection, Pipes, or Input Files"
   ]
  },
  {
   "cell_type": "code",
   "execution_count": 11,
   "metadata": {},
   "outputs": [
    {
     "name": "stdout",
     "output_type": "stream",
     "text": [
      "/etc/os-release 1 NAME=\"Ubuntu\"\n",
      "/etc/os-release 2 VERSION=\"16.04.3 LTS (Xenial Xerus)\"\n",
      "/etc/os-release 3 ID=ubuntu\n",
      "/etc/os-release 4 ID_LIKE=debian\n",
      "/etc/os-release 5 PRETTY_NAME=\"Ubuntu 16.04.3 LTS\"\n",
      "/etc/os-release 6 VERSION_ID=\"16.04\"\n",
      "/etc/os-release 7 HOME_URL=\"http://www.ubuntu.com/\"\n",
      "/etc/os-release 8 SUPPORT_URL=\"http://help.ubuntu.com/\"\n",
      "/etc/os-release 9 BUG_REPORT_URL=\"http://bugs.launchpad.net/ubuntu/\"\n",
      "/etc/os-release 10 VERSION_CODENAME=xenial\n",
      "/etc/os-release 11 UBUNTU_CODENAME=xenial\n"
     ]
    }
   ],
   "source": [
    "%run ./filein.py"
   ]
  },
  {
   "cell_type": "markdown",
   "metadata": {},
   "source": [
    "# 13.2. Terminating a Program with an Error Message"
   ]
  },
  {
   "cell_type": "code",
   "execution_count": 12,
   "metadata": {},
   "outputs": [
    {
     "name": "stderr",
     "output_type": "stream",
     "text": [
      "It failed!\n"
     ]
    },
    {
     "ename": "SystemExit",
     "evalue": "1",
     "output_type": "error",
     "traceback": [
      "An exception has occurred, use %tb to see the full traceback.\n",
      "\u001b[0;31mSystemExit\u001b[0m\u001b[0;31m:\u001b[0m 1\n"
     ]
    },
    {
     "name": "stderr",
     "output_type": "stream",
     "text": [
      "/usr/local/lib/python3.5/dist-packages/IPython/core/interactiveshell.py:2918: UserWarning: To exit: use 'exit', 'quit', or Ctrl-D.\n",
      "  warn(\"To exit: use 'exit', 'quit', or Ctrl-D.\", stacklevel=1)\n"
     ]
    }
   ],
   "source": [
    "import sys \n",
    "sys.stderr.write('It failed!\\n')\n",
    "raise SystemExit(1)"
   ]
  },
  {
   "cell_type": "markdown",
   "metadata": {},
   "source": [
    "# 13.3. Parsing Command-Line Options"
   ]
  },
  {
   "cell_type": "code",
   "execution_count": 20,
   "metadata": {},
   "outputs": [
    {
     "name": "stdout",
     "output_type": "stream",
     "text": [
      "usage: search.py [-h] -p pattern [-v] [-o OUTFILE] [--speed {fast,slow}]\n",
      "                 [filename [filename ...]]\n",
      "\n",
      "Search some files\n",
      "\n",
      "positional arguments:\n",
      "  filename\n",
      "\n",
      "optional arguments:\n",
      "  -h, --help            show this help message and exit\n",
      "  -p pattern, --pat pattern\n",
      "                        text pattern to search for\n",
      "  -v                    verbose mode\n",
      "  -o OUTFILE            output file\n",
      "  --speed {fast,slow}   search speed\n",
      "\n",
      "filenames =  ['foo.txt', 'bar.txt']\n",
      "patterns  =  ['spam', 'eggs']\n",
      "verbose   =  True\n",
      "outfile   =  None\n",
      "speed     =  slow\n",
      "\n",
      "filenames =  ['foo.txt', 'bar.txt']\n",
      "patterns  =  ['spam', 'eggs']\n",
      "verbose   =  True\n",
      "outfile   =  results\n",
      "speed     =  slow\n",
      "\n",
      "filenames =  ['foo.txt', 'bar.txt']\n",
      "patterns  =  ['spam', 'eggs']\n",
      "verbose   =  True\n",
      "outfile   =  results\n",
      "speed     =  fast\n"
     ]
    }
   ],
   "source": [
    "# The argparse module can be used to parse command-line options\n",
    "%run search.py -h\n",
    "print()\n",
    "%run search.py -v -p spam --pat=eggs foo.txt bar.txt \n",
    "print()\n",
    "%run search.py -v -p spam --pat=eggs foo.txt bar.txt -o results\n",
    "print()\n",
    "%run search.py -v -p spam --pat=eggs foo.txt bar.txt -o results --speed=fast"
   ]
  },
  {
   "cell_type": "markdown",
   "metadata": {},
   "source": [
    "# 13.4. Prompting for a Password at Runtime"
   ]
  },
  {
   "cell_type": "code",
   "execution_count": 2,
   "metadata": {},
   "outputs": [
    {
     "name": "stdout",
     "output_type": "stream",
     "text": [
      "········\n",
      "Yay!\n"
     ]
    }
   ],
   "source": [
    "# getpass module allow you to very easily prompt for a password without having the keyed-in password displayed on the user's terminal\n",
    "import getpass\n",
    "\n",
    "user = getpass.getuser() # use the current user's login name\n",
    "passwd = getpass.getpass()\n",
    "\n",
    "def svc_login(user, passwd):\n",
    "    if user == 'goku' and passwd == 'passwd':\n",
    "        return True\n",
    "    else:\n",
    "        return False\n",
    "\n",
    "if svc_login(user, passwd): \n",
    "    print('Yay!')\n",
    "else:\n",
    "    print('Boo!')"
   ]
  },
  {
   "cell_type": "markdown",
   "metadata": {},
   "source": [
    "# 13.5. Getting the Terminal Size"
   ]
  },
  {
   "cell_type": "code",
   "execution_count": 5,
   "metadata": {},
   "outputs": [
    {
     "name": "stdout",
     "output_type": "stream",
     "text": [
      "80 24\n"
     ]
    }
   ],
   "source": [
    "import os \n",
    "# get the terminal size\n",
    "sz = os.get_terminal_size()\n",
    "print(sz.columns, sz.lines)"
   ]
  },
  {
   "cell_type": "markdown",
   "metadata": {},
   "source": [
    "# 13.6. Executing an External Command and Getting Its Output"
   ]
  },
  {
   "cell_type": "code",
   "execution_count": 17,
   "metadata": {},
   "outputs": [
    {
     "name": "stdout",
     "output_type": "stream",
     "text": [
      ".\n",
      "..\n",
      "bar.txt\n",
      "Chapter13.UtilityScriptingandSystemAdministration.ipynb\n",
      "filein.py\n",
      "foo.txt\n",
      ".ipynb_checkpoints\n",
      "search.py\n",
      "\n"
     ]
    }
   ],
   "source": [
    "import subprocess\n",
    "\n",
    "try:\n",
    "    # check_output() only return output written to standard output, \n",
    "    out_bytes = subprocess.check_output(['ls', '-a'], stderr=subprocess.STDOUT, timeout=5) # byte strings \n",
    "    out_text = out_bytes.decode('utf-8')\n",
    "    print(out_text)\n",
    "except subprocess.CalledProcessError as e:\n",
    "    out_bytes = e.output # Output generated before error \n",
    "    code      = e.returncode # Return code\n",
    "    print(out_bytes, code)"
   ]
  },
  {
   "cell_type": "code",
   "execution_count": 15,
   "metadata": {},
   "outputs": [
    {
     "name": "stdout",
     "output_type": "stream",
     "text": [
      "b'      4       7      36\\n' None\n"
     ]
    }
   ],
   "source": [
    "import subprocess\n",
    "\n",
    "# Some text to send \n",
    "text = b'''\n",
    "hello world\n",
    "this is a test\n",
    "goodbye\n",
    "'''\n",
    "\n",
    "# Launch a command with pipes\n",
    "p = subprocess.Popen(['wc'],\n",
    "                    stdout = subprocess.PIPE,\n",
    "                    stdin = subprocess.PIPE)\n",
    "\n",
    "# Send the data and get the output\n",
    "stdout, stderr = p.communicate(text)\n",
    "\n",
    "print(stdout, stderr)\n",
    "\n",
    "# To interpret as text, decode \n",
    "out = stdout.decode('utf-8')"
   ]
  },
  {
   "cell_type": "markdown",
   "metadata": {},
   "source": [
    "# 13.7. Copying or Moving Files and Directories"
   ]
  },
  {
   "cell_type": "code",
   "execution_count": 24,
   "metadata": {},
   "outputs": [
    {
     "data": {
      "text/plain": [
       "'foo.txt.sl.two'"
      ]
     },
     "execution_count": 24,
     "metadata": {},
     "output_type": "execute_result"
    }
   ],
   "source": [
    "# The shutil module has portable implementations of functions for copying files and directories\n",
    "import shutil\n",
    "\n",
    "'''\n",
    "# Copy src to dst, \n",
    "shutil.copy('bar.txt', 'bar.txt.copy')\n",
    "\n",
    "# Copy files ,but preserve metadata (cp -p src dust) 修改时间,创建时间\n",
    "shutil.copy2('bar.txt', 'bar.txt.copy2')\n",
    "\n",
    "# Copy direcotry tree (cp -R src dst)\n",
    "shutil.copytree('a/', 'aCopy')\n",
    "\n",
    "#Move src tro dst \n",
    "shutil.move('bar.txt','bar.txt.mv')\n",
    "shutil.move('bar.txt.mv','bar.txt')\n",
    "'''\n",
    "\n",
    "shutil.copy2('foo.txt.sl', 'foo.txt.sl.two', follow_symlinks=False)\n"
   ]
  },
  {
   "cell_type": "markdown",
   "metadata": {},
   "source": [
    "# 13.8. Creating and Unpacking Archives"
   ]
  },
  {
   "cell_type": "code",
   "execution_count": 28,
   "metadata": {},
   "outputs": [
    {
     "data": {
      "text/plain": [
       "[('bztar', \"bzip2'ed tar-file\"),\n",
       " ('gztar', \"gzip'ed tar-file\"),\n",
       " ('tar', 'uncompressed tar file'),\n",
       " ('xztar', \"xz'ed tar-file\"),\n",
       " ('zip', 'ZIP file')]"
      ]
     },
     "execution_count": 28,
     "metadata": {},
     "output_type": "execute_result"
    }
   ],
   "source": [
    "# shutil module has two functions --make_archive(), unpack_archive()\n",
    "import shutil\n",
    "shutil.make_archive('archive', 'zip', 'archive')\n",
    "shutil.unpack_archive('archive.zip')\n",
    "\n",
    "# To get a list of supported archive formats\n",
    "shutil.get_archive_formats()"
   ]
  },
  {
   "cell_type": "markdown",
   "metadata": {},
   "source": [
    "# 13.9 Finding Files by Name"
   ]
  },
  {
   "cell_type": "code",
   "execution_count": 31,
   "metadata": {},
   "outputs": [
    {
     "name": "stdout",
     "output_type": "stream",
     "text": [
      "/home/goku/Desktop/Github/Books-BK-PythonCookbook3rd/Chapter13.UtilityScriptingandSystemAdministration/foo.txt\n"
     ]
    }
   ],
   "source": [
    "# To search for files, use the os.walk() function, supplying it with the top-level directory\n",
    "%run ./findfile.py . foo.txt"
   ]
  },
  {
   "cell_type": "code",
   "execution_count": null,
   "metadata": {},
   "outputs": [],
   "source": []
  },
  {
   "cell_type": "code",
   "execution_count": null,
   "metadata": {},
   "outputs": [],
   "source": []
  },
  {
   "cell_type": "code",
   "execution_count": null,
   "metadata": {},
   "outputs": [],
   "source": []
  },
  {
   "cell_type": "code",
   "execution_count": null,
   "metadata": {},
   "outputs": [],
   "source": []
  },
  {
   "cell_type": "code",
   "execution_count": null,
   "metadata": {},
   "outputs": [],
   "source": []
  },
  {
   "cell_type": "code",
   "execution_count": null,
   "metadata": {},
   "outputs": [],
   "source": []
  },
  {
   "cell_type": "code",
   "execution_count": null,
   "metadata": {},
   "outputs": [],
   "source": []
  },
  {
   "cell_type": "code",
   "execution_count": null,
   "metadata": {},
   "outputs": [],
   "source": []
  },
  {
   "cell_type": "code",
   "execution_count": null,
   "metadata": {},
   "outputs": [],
   "source": []
  },
  {
   "cell_type": "code",
   "execution_count": null,
   "metadata": {},
   "outputs": [],
   "source": []
  },
  {
   "cell_type": "code",
   "execution_count": null,
   "metadata": {},
   "outputs": [],
   "source": []
  },
  {
   "cell_type": "code",
   "execution_count": null,
   "metadata": {},
   "outputs": [],
   "source": []
  },
  {
   "cell_type": "code",
   "execution_count": null,
   "metadata": {},
   "outputs": [],
   "source": []
  },
  {
   "cell_type": "code",
   "execution_count": null,
   "metadata": {},
   "outputs": [],
   "source": []
  },
  {
   "cell_type": "code",
   "execution_count": null,
   "metadata": {},
   "outputs": [],
   "source": []
  },
  {
   "cell_type": "code",
   "execution_count": null,
   "metadata": {},
   "outputs": [],
   "source": []
  },
  {
   "cell_type": "code",
   "execution_count": null,
   "metadata": {},
   "outputs": [],
   "source": []
  }
 ],
 "metadata": {
  "kernelspec": {
   "display_name": "Python 3",
   "language": "python",
   "name": "python3"
  },
  "language_info": {
   "codemirror_mode": {
    "name": "ipython",
    "version": 3
   },
   "file_extension": ".py",
   "mimetype": "text/x-python",
   "name": "python",
   "nbconvert_exporter": "python",
   "pygments_lexer": "ipython3",
   "version": "3.5.2"
  }
 },
 "nbformat": 4,
 "nbformat_minor": 2
}
