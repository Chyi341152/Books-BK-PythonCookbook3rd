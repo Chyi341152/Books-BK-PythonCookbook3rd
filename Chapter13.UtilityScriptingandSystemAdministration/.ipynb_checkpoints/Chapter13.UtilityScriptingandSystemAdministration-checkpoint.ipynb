{
 "cells": [
  {
   "cell_type": "markdown",
   "metadata": {},
   "source": [
    "# 13.1. Accepting Script Input via Redirection, Pipes, or Input Files"
   ]
  },
  {
   "cell_type": "code",
   "execution_count": 11,
   "metadata": {},
   "outputs": [
    {
     "name": "stdout",
     "output_type": "stream",
     "text": [
      "/etc/os-release 1 NAME=\"Ubuntu\"\n",
      "/etc/os-release 2 VERSION=\"16.04.3 LTS (Xenial Xerus)\"\n",
      "/etc/os-release 3 ID=ubuntu\n",
      "/etc/os-release 4 ID_LIKE=debian\n",
      "/etc/os-release 5 PRETTY_NAME=\"Ubuntu 16.04.3 LTS\"\n",
      "/etc/os-release 6 VERSION_ID=\"16.04\"\n",
      "/etc/os-release 7 HOME_URL=\"http://www.ubuntu.com/\"\n",
      "/etc/os-release 8 SUPPORT_URL=\"http://help.ubuntu.com/\"\n",
      "/etc/os-release 9 BUG_REPORT_URL=\"http://bugs.launchpad.net/ubuntu/\"\n",
      "/etc/os-release 10 VERSION_CODENAME=xenial\n",
      "/etc/os-release 11 UBUNTU_CODENAME=xenial\n"
     ]
    }
   ],
   "source": [
    "%run ./filein.py"
   ]
  },
  {
   "cell_type": "markdown",
   "metadata": {},
   "source": [
    "# 13.2. Terminating a Program with an Error Message"
   ]
  },
  {
   "cell_type": "code",
   "execution_count": 12,
   "metadata": {},
   "outputs": [
    {
     "name": "stderr",
     "output_type": "stream",
     "text": [
      "It failed!\n"
     ]
    },
    {
     "ename": "SystemExit",
     "evalue": "1",
     "output_type": "error",
     "traceback": [
      "An exception has occurred, use %tb to see the full traceback.\n",
      "\u001b[0;31mSystemExit\u001b[0m\u001b[0;31m:\u001b[0m 1\n"
     ]
    },
    {
     "name": "stderr",
     "output_type": "stream",
     "text": [
      "/usr/local/lib/python3.5/dist-packages/IPython/core/interactiveshell.py:2918: UserWarning: To exit: use 'exit', 'quit', or Ctrl-D.\n",
      "  warn(\"To exit: use 'exit', 'quit', or Ctrl-D.\", stacklevel=1)\n"
     ]
    }
   ],
   "source": [
    "import sys \n",
    "sys.stderr.write('It failed!\\n')\n",
    "raise SystemExit(1)"
   ]
  },
  {
   "cell_type": "markdown",
   "metadata": {},
   "source": [
    "# 13.3. Parsing Command-Line Options"
   ]
  },
  {
   "cell_type": "code",
   "execution_count": 20,
   "metadata": {},
   "outputs": [
    {
     "name": "stdout",
     "output_type": "stream",
     "text": [
      "usage: search.py [-h] -p pattern [-v] [-o OUTFILE] [--speed {fast,slow}]\n",
      "                 [filename [filename ...]]\n",
      "\n",
      "Search some files\n",
      "\n",
      "positional arguments:\n",
      "  filename\n",
      "\n",
      "optional arguments:\n",
      "  -h, --help            show this help message and exit\n",
      "  -p pattern, --pat pattern\n",
      "                        text pattern to search for\n",
      "  -v                    verbose mode\n",
      "  -o OUTFILE            output file\n",
      "  --speed {fast,slow}   search speed\n",
      "\n",
      "filenames =  ['foo.txt', 'bar.txt']\n",
      "patterns  =  ['spam', 'eggs']\n",
      "verbose   =  True\n",
      "outfile   =  None\n",
      "speed     =  slow\n",
      "\n",
      "filenames =  ['foo.txt', 'bar.txt']\n",
      "patterns  =  ['spam', 'eggs']\n",
      "verbose   =  True\n",
      "outfile   =  results\n",
      "speed     =  slow\n",
      "\n",
      "filenames =  ['foo.txt', 'bar.txt']\n",
      "patterns  =  ['spam', 'eggs']\n",
      "verbose   =  True\n",
      "outfile   =  results\n",
      "speed     =  fast\n"
     ]
    }
   ],
   "source": [
    "# The argparse module can be used to parse command-line options\n",
    "%run search.py -h\n",
    "print()\n",
    "%run search.py -v -p spam --pat=eggs foo.txt bar.txt \n",
    "print()\n",
    "%run search.py -v -p spam --pat=eggs foo.txt bar.txt -o results\n",
    "print()\n",
    "%run search.py -v -p spam --pat=eggs foo.txt bar.txt -o results --speed=fast"
   ]
  },
  {
   "cell_type": "markdown",
   "metadata": {},
   "source": [
    "# 13.4. Prompting for a Password at Runtime"
   ]
  },
  {
   "cell_type": "code",
   "execution_count": 2,
   "metadata": {},
   "outputs": [
    {
     "name": "stdout",
     "output_type": "stream",
     "text": [
      "········\n",
      "Yay!\n"
     ]
    }
   ],
   "source": [
    "# getpass module allow you to very easily prompt for a password without having the keyed-in password displayed on the user's terminal\n",
    "import getpass\n",
    "\n",
    "user = getpass.getuser() # use the current user's login name\n",
    "passwd = getpass.getpass()\n",
    "\n",
    "def svc_login(user, passwd):\n",
    "    if user == 'goku' and passwd == 'passwd':\n",
    "        return True\n",
    "    else:\n",
    "        return False\n",
    "\n",
    "if svc_login(user, passwd): \n",
    "    print('Yay!')\n",
    "else:\n",
    "    print('Boo!')"
   ]
  },
  {
   "cell_type": "markdown",
   "metadata": {},
   "source": [
    "# 13.5. Getting the Terminal Size"
   ]
  },
  {
   "cell_type": "code",
   "execution_count": 5,
   "metadata": {},
   "outputs": [
    {
     "name": "stdout",
     "output_type": "stream",
     "text": [
      "80 24\n"
     ]
    }
   ],
   "source": [
    "import os \n",
    "# get the terminal size\n",
    "sz = os.get_terminal_size()\n",
    "print(sz.columns, sz.lines)"
   ]
  },
  {
   "cell_type": "markdown",
   "metadata": {},
   "source": [
    "# 13.6. Executing an External Command and Getting Its Output"
   ]
  },
  {
   "cell_type": "code",
   "execution_count": 17,
   "metadata": {},
   "outputs": [
    {
     "name": "stdout",
     "output_type": "stream",
     "text": [
      ".\n",
      "..\n",
      "bar.txt\n",
      "Chapter13.UtilityScriptingandSystemAdministration.ipynb\n",
      "filein.py\n",
      "foo.txt\n",
      ".ipynb_checkpoints\n",
      "search.py\n",
      "\n"
     ]
    }
   ],
   "source": [
    "import subprocess\n",
    "\n",
    "try:\n",
    "    # check_output() only return output written to standard output, \n",
    "    out_bytes = subprocess.check_output(['ls', '-a'], stderr=subprocess.STDOUT, timeout=5) # byte strings \n",
    "    out_text = out_bytes.decode('utf-8')\n",
    "    print(out_text)\n",
    "except subprocess.CalledProcessError as e:\n",
    "    out_bytes = e.output # Output generated before error \n",
    "    code      = e.returncode # Return code\n",
    "    print(out_bytes, code)"
   ]
  },
  {
   "cell_type": "code",
   "execution_count": 15,
   "metadata": {},
   "outputs": [
    {
     "name": "stdout",
     "output_type": "stream",
     "text": [
      "b'      4       7      36\\n' None\n"
     ]
    }
   ],
   "source": [
    "import subprocess\n",
    "\n",
    "# Some text to send \n",
    "text = b'''\n",
    "hello world\n",
    "this is a test\n",
    "goodbye\n",
    "'''\n",
    "\n",
    "# Launch a command with pipes\n",
    "p = subprocess.Popen(['wc'],\n",
    "                    stdout = subprocess.PIPE,\n",
    "                    stdin = subprocess.PIPE)\n",
    "\n",
    "# Send the data and get the output\n",
    "stdout, stderr = p.communicate(text)\n",
    "\n",
    "print(stdout, stderr)\n",
    "\n",
    "# To interpret as text, decode \n",
    "out = stdout.decode('utf-8')"
   ]
  },
  {
   "cell_type": "markdown",
   "metadata": {},
   "source": [
    "# 13.7. Copying or Moving Files and Directories"
   ]
  },
  {
   "cell_type": "code",
   "execution_count": 24,
   "metadata": {},
   "outputs": [
    {
     "data": {
      "text/plain": [
       "'foo.txt.sl.two'"
      ]
     },
     "execution_count": 24,
     "metadata": {},
     "output_type": "execute_result"
    }
   ],
   "source": [
    "# The shutil module has portable implementations of functions for copying files and directories\n",
    "import shutil\n",
    "\n",
    "'''\n",
    "# Copy src to dst, \n",
    "shutil.copy('bar.txt', 'bar.txt.copy')\n",
    "\n",
    "# Copy files ,but preserve metadata (cp -p src dust) 修改时间,创建时间\n",
    "shutil.copy2('bar.txt', 'bar.txt.copy2')\n",
    "\n",
    "# Copy direcotry tree (cp -R src dst)\n",
    "shutil.copytree('a/', 'aCopy')\n",
    "\n",
    "#Move src tro dst \n",
    "shutil.move('bar.txt','bar.txt.mv')\n",
    "shutil.move('bar.txt.mv','bar.txt')\n",
    "'''\n",
    "\n",
    "shutil.copy2('foo.txt.sl', 'foo.txt.sl.two', follow_symlinks=False)\n"
   ]
  },
  {
   "cell_type": "markdown",
   "metadata": {},
   "source": [
    "# 13.8. Creating and Unpacking Archives"
   ]
  },
  {
   "cell_type": "code",
   "execution_count": 28,
   "metadata": {},
   "outputs": [
    {
     "data": {
      "text/plain": [
       "[('bztar', \"bzip2'ed tar-file\"),\n",
       " ('gztar', \"gzip'ed tar-file\"),\n",
       " ('tar', 'uncompressed tar file'),\n",
       " ('xztar', \"xz'ed tar-file\"),\n",
       " ('zip', 'ZIP file')]"
      ]
     },
     "execution_count": 28,
     "metadata": {},
     "output_type": "execute_result"
    }
   ],
   "source": [
    "# shutil module has two functions --make_archive(), unpack_archive()\n",
    "import shutil\n",
    "shutil.make_archive('archive', 'zip', 'archive')\n",
    "shutil.unpack_archive('archive.zip')\n",
    "\n",
    "# To get a list of supported archive formats\n",
    "shutil.get_archive_formats()"
   ]
  },
  {
   "cell_type": "markdown",
   "metadata": {},
   "source": [
    "# 13.9 Finding Files by Name"
   ]
  },
  {
   "cell_type": "code",
   "execution_count": 1,
   "metadata": {},
   "outputs": [
    {
     "name": "stdout",
     "output_type": "stream",
     "text": [
      "/home/goku/Desktop/Github/Books-BK-PythonCookbook3rd/Chapter13.UtilityScriptingandSystemAdministration/foo.txt\n",
      "./.findmodified.py.swp\n",
      "./foo.txt.sl.two\n",
      "./foo.txt.sl\n",
      "./foo.txt\n",
      "./bar.txt.copy\n",
      "./bar.txt.copy2\n",
      "./bar.txt\n",
      "./findfile.py\n",
      "./search.py\n",
      "./archive.zip\n",
      "./filemoditime.py\n",
      "./filein.py\n",
      "./Chapter13.UtilityScriptingandSystemAdministration.ipynb\n",
      "./.ipynb_checkpoints/Chapter13.UtilityScriptingandSystemAdministration-checkpoint.ipynb\n"
     ]
    }
   ],
   "source": [
    "# To search for files, use the os.walk() function, supplying it with the top-level directory\n",
    "%run ./findfile.py . foo.txt\n",
    "\n",
    "# prints out all of the files that have a recent modification time\n",
    "%run ./filemoditime.py . 86400\n",
    "    "
   ]
  },
  {
   "cell_type": "markdown",
   "metadata": {},
   "source": [
    "# 13.10. Reading Configuration Files"
   ]
  },
  {
   "cell_type": "code",
   "execution_count": 11,
   "metadata": {},
   "outputs": [
    {
     "name": "stdout",
     "output_type": "stream",
     "text": [
      "\n",
      "=================================\n",
      "Brought to you by the Python Cookbook\n",
      "=================================\n",
      "[installation]\n",
      "library = %(prefix)s/lib\n",
      "include = %(prefix)s/include\n",
      "bin = %(prefix)s/bin\n",
      "prefix = /usr/local\n",
      "\n",
      "[debug]\n",
      "log_errors = False\n",
      "show_warnings = False\n",
      "\n",
      "[server]\n",
      "port = 9000\n",
      "nworkers = 32\n",
      "pid-file = /tmp/spam.pid\n",
      "root = /www/root\n",
      "signature = \n",
      "\t=================================\n",
      "\tBrought to you by the Python Cookbook\n",
      "\t=================================\n",
      "\n"
     ]
    }
   ],
   "source": [
    "# read common .ini configuration file format\n",
    "# the configparser module can be used to read configuration files\n",
    "from configparser import ConfigParser\n",
    "cfg = ConfigParser()\n",
    "cfg.read('conf.ini')\n",
    "cfg.sections()\n",
    "cfg.get('installation', 'library')\n",
    "cfg.getboolean('debug', 'log_errors')\n",
    "cfg.getint('server', 'port')\n",
    "cfg.getint('server', 'nworkers')\n",
    "print(cfg.get('server', 'signature'))\n",
    "\n",
    "# modify the configuration and write it back to a file using the cfg.write() method\n",
    "cfg.set('server','port','9000')\n",
    "cfg.set('debug', 'log_errors', 'False')\n",
    "import sys \n",
    "cfg.write(sys.stdout)"
   ]
  },
  {
   "cell_type": "markdown",
   "metadata": {},
   "source": [
    "# 13.11. Adding Logging to Simple Scripts"
   ]
  },
  {
   "cell_type": "code",
   "execution_count": 22,
   "metadata": {},
   "outputs": [
    {
     "name": "stdout",
     "output_type": "stream",
     "text": [
      "2018-02-07 09:38:30,786 - root - CRITICAL - Host www.python.org unknown\n",
      "2018-02-07 09:38:30,787 - root - ERROR - Couldn't find 'spam'\n",
      "2018-02-07 09:38:30,788 - root - WARNING - Feature is deprecated\n",
      "2018-02-07 09:38:30,789 - root - INFO - Opening file 'data.csv', mode='r'\n",
      "2018-02-07 09:38:30,789 - root - DEBUG - Got here\n"
     ]
    }
   ],
   "source": [
    "# Write diagnostic information to log files\n",
    "import logging\n",
    "import logging.config\n",
    "\n",
    "def main():\n",
    "    # Configure the logging system\n",
    "    # level argument to basicConfig() os a filter \n",
    "    logging.config.fileConfig('logconfig.ini')\n",
    "\n",
    "    # Variables (to make the calls that follow work)\n",
    "    hostname = 'www.python.org'\n",
    "    item = 'spam'\n",
    "    filename = 'data.csv'\n",
    "    mode = 'r'\n",
    "    \n",
    "    # Example logging calls (insert into your programm)\n",
    "    logging.critical('Host %s unknown', hostname)\n",
    "    logging.error(\"Couldn't find %r\", item)\n",
    "    logging.warning('Feature is deprecated')\n",
    "    logging.info('Opening file %r, mode=%r', filename, mode)\n",
    "    logging.debug('Got here')\n",
    "\n",
    "if __name__ == '__main__':\n",
    "    main()"
   ]
  },
  {
   "cell_type": "markdown",
   "metadata": {},
   "source": [
    "# 13.12. Adding Logging to Libraries"
   ]
  },
  {
   "cell_type": "code",
   "execution_count": 28,
   "metadata": {},
   "outputs": [
    {
     "name": "stdout",
     "output_type": "stream",
     "text": [
      "2018-02-07 09:49:06,686 - liblog - CRITICAL - A Critical Error!\n",
      "2018-02-07 09:49:06,687 - liblog - DEBUG - A debug message\n",
      "2018-02-07 09:49:06,688 - liblog - CRITICAL - A Critical Error!\n",
      "2018-02-07 09:49:06,689 - liblog - DEBUG - A debug message\n",
      "2018-02-07 09:49:06,689 - liblog - CRITICAL - A Critical Error!\n",
      "2018-02-07 09:49:06,690 - liblog - DEBUG - A debug message\n"
     ]
    }
   ],
   "source": [
    "# Create a dedicated logger object, and initially configure it as follows\n",
    "import liblog\n",
    "liblog.func()\n",
    "\n",
    "import logging\n",
    "logging.basicConfig(level=logging.ERROR)\n",
    "\n",
    "import liblog\n",
    "liblog.func()\n",
    "\n",
    "# Change the logging level for 'loglib' only\n",
    "logging.getLogger('liblog').level = logging.DEBUG\n",
    "liblog.func()"
   ]
  },
  {
   "cell_type": "markdown",
   "metadata": {},
   "source": [
    "# 13.13. Making a Stopwatch Timer"
   ]
  },
  {
   "cell_type": "code",
   "execution_count": 32,
   "metadata": {},
   "outputs": [
    {
     "name": "stdout",
     "output_type": "stream",
     "text": [
      "0.04059986700000007\n",
      "0.07888796900000017\n",
      "0.039033991008182056\n"
     ]
    }
   ],
   "source": [
    "import time\n",
    "\n",
    "class Timer:\n",
    "    def __init__(self, func=time.perf_counter):\n",
    "        self.elapsed = 0.0\n",
    "        self._func = func\n",
    "        self._start = None\n",
    "    \n",
    "    def start(self):\n",
    "        if self._start is not None:\n",
    "            raise RuntimeError('Already started')\n",
    "        self._start = self._func()\n",
    "    \n",
    "    def stop(self):\n",
    "        if self._start is None:\n",
    "            raise RuntimeError('Not started')\n",
    "        end = self._func()\n",
    "        self.elapsed += end - self._start\n",
    "        self._start = None\n",
    "    \n",
    "    def reset(self):\n",
    "        self.elapsed = 0.0 \n",
    "    \n",
    "    @property\n",
    "    def running(self):\n",
    "        return self._start is not None\n",
    "    \n",
    "    def __enter__(self):\n",
    "        self.start()\n",
    "        return self\n",
    "    \n",
    "    def __exit__(self, *args):\n",
    "        self.stop()\n",
    "\n",
    "def countdown(n):\n",
    "    while n > 0:\n",
    "        n -= 1\n",
    "\n",
    "# Use 1: Explicit start/stop\n",
    "t = Timer(time.process_time)\n",
    "t.start()\n",
    "countdown(1000000)\n",
    "t.stop()\n",
    "print(t.elapsed)\n",
    "\n",
    "# Use 2: As a context manager\n",
    "with t:\n",
    "    countdown(1000000)\n",
    "print(t.elapsed)\n",
    "\n",
    "with Timer() as t2:\n",
    "    countdown(1000000)\n",
    "print(t2.elapsed)\n",
    "\n",
    "# Both the time.perf_counter() and time.process_time() return a \"time\"in fractional seconds"
   ]
  },
  {
   "cell_type": "markdown",
   "metadata": {},
   "source": [
    "# 13.14. Putting Limits on Memory and CPU Usage"
   ]
  },
  {
   "cell_type": "code",
   "execution_count": 35,
   "metadata": {},
   "outputs": [
    {
     "name": "stdout",
     "output_type": "stream",
     "text": [
      "Time's up!\n"
     ]
    },
    {
     "ename": "SystemExit",
     "evalue": "1",
     "output_type": "error",
     "traceback": [
      "An exception has occurred, use %tb to see the full traceback.\n",
      "\u001b[0;31mSystemExit\u001b[0m\u001b[0;31m:\u001b[0m 1\n"
     ]
    },
    {
     "name": "stderr",
     "output_type": "stream",
     "text": [
      "/usr/local/lib/python3.5/dist-packages/IPython/core/interactiveshell.py:2918: UserWarning: To exit: use 'exit', 'quit', or Ctrl-D.\n",
      "  warn(\"To exit: use 'exit', 'quit', or Ctrl-D.\", stacklevel=1)\n"
     ]
    }
   ],
   "source": [
    "# Place some limits on the memory or CPU use of a program running on Unix system\n",
    "\n",
    "# restrict CPU time\n",
    "import signal \n",
    "import resource \n",
    "import os \n",
    "\n",
    "def time_exceeded(signo, frame):\n",
    "    print(\"Time's up!\")\n",
    "    raise SystemExit(1)\n",
    "\n",
    "def set_max_runtime(seconds):\n",
    "    # Install the signal handler and set a resource limit \n",
    "    soft, hard = resource.getrlimit(resource.RLIMIT_CPU)\n",
    "    resource.setrlimit(resource.RLIMIT_CPU, (seconds, hard))\n",
    "    signal.signal(signal.SIGXCPU, time_exceeded)\n",
    "\n",
    "# restrict memory use\n",
    "def limit_memory(maxsize):\n",
    "    soft, hard = resource.getrlimit(resource.RLIMIT_AS)\n",
    "    # the setrlimit() function is used to set a soft and hard limit on a particular resource.\n",
    "    resource.setrlimit(resource.RLIMIT_AS, (maxsize, soft))\n",
    "    \n",
    "if __name__ == '__main__':\n",
    "    set_max_runtime(15)\n",
    "    while True:\n",
    "        pass "
   ]
  },
  {
   "cell_type": "markdown",
   "metadata": {},
   "source": [
    "# 13.15. Launching a Web Browser"
   ]
  },
  {
   "cell_type": "code",
   "execution_count": 43,
   "metadata": {},
   "outputs": [
    {
     "ename": "Error",
     "evalue": "could not locate runnable browser",
     "output_type": "error",
     "traceback": [
      "\u001b[0;31m---------------------------------------------------------------------------\u001b[0m",
      "\u001b[0;31mError\u001b[0m                                     Traceback (most recent call last)",
      "\u001b[0;32m<ipython-input-43-d595cbba1547>\u001b[0m in \u001b[0;36m<module>\u001b[0;34m()\u001b[0m\n\u001b[1;32m      9\u001b[0m \u001b[0;34m\u001b[0m\u001b[0m\n\u001b[1;32m     10\u001b[0m \u001b[0;31m# open a page in a specific browser\u001b[0m\u001b[0;34m\u001b[0m\u001b[0;34m\u001b[0m\u001b[0m\n\u001b[0;32m---> 11\u001b[0;31m \u001b[0mc\u001b[0m \u001b[0;34m=\u001b[0m \u001b[0mwebbrowser\u001b[0m\u001b[0;34m.\u001b[0m\u001b[0mget\u001b[0m\u001b[0;34m(\u001b[0m\u001b[0;34m'mozilla'\u001b[0m\u001b[0;34m)\u001b[0m\u001b[0;34m\u001b[0m\u001b[0m\n\u001b[0m\u001b[1;32m     12\u001b[0m \u001b[0mc\u001b[0m\u001b[0;34m.\u001b[0m\u001b[0mopen\u001b[0m\u001b[0;34m(\u001b[0m\u001b[0;34m'http://www.python.org'\u001b[0m\u001b[0;34m)\u001b[0m\u001b[0;34m\u001b[0m\u001b[0m\n\u001b[1;32m     13\u001b[0m \u001b[0mc\u001b[0m\u001b[0;34m.\u001b[0m\u001b[0mopen_new_tab\u001b[0m\u001b[0;34m(\u001b[0m\u001b[0;34m'http://docs.python.org'\u001b[0m\u001b[0;34m)\u001b[0m\u001b[0;34m\u001b[0m\u001b[0m\n",
      "\u001b[0;32m/usr/lib/python3.5/webbrowser.py\u001b[0m in \u001b[0;36mget\u001b[0;34m(using)\u001b[0m\n\u001b[1;32m     49\u001b[0m             \u001b[0;32melif\u001b[0m \u001b[0mcommand\u001b[0m\u001b[0;34m[\u001b[0m\u001b[0;36m0\u001b[0m\u001b[0;34m]\u001b[0m \u001b[0;32mis\u001b[0m \u001b[0;32mnot\u001b[0m \u001b[0;32mNone\u001b[0m\u001b[0;34m:\u001b[0m\u001b[0;34m\u001b[0m\u001b[0m\n\u001b[1;32m     50\u001b[0m                 \u001b[0;32mreturn\u001b[0m \u001b[0mcommand\u001b[0m\u001b[0;34m[\u001b[0m\u001b[0;36m0\u001b[0m\u001b[0;34m]\u001b[0m\u001b[0;34m(\u001b[0m\u001b[0;34m)\u001b[0m\u001b[0;34m\u001b[0m\u001b[0m\n\u001b[0;32m---> 51\u001b[0;31m     \u001b[0;32mraise\u001b[0m \u001b[0mError\u001b[0m\u001b[0;34m(\u001b[0m\u001b[0;34m\"could not locate runnable browser\"\u001b[0m\u001b[0;34m)\u001b[0m\u001b[0;34m\u001b[0m\u001b[0m\n\u001b[0m\u001b[1;32m     52\u001b[0m \u001b[0;34m\u001b[0m\u001b[0m\n\u001b[1;32m     53\u001b[0m \u001b[0;31m# Please note: the following definition hides a builtin function.\u001b[0m\u001b[0;34m\u001b[0m\u001b[0;34m\u001b[0m\u001b[0m\n",
      "\u001b[0;31mError\u001b[0m: could not locate runnable browser"
     ]
    }
   ],
   "source": [
    "import webbrowser\n",
    "webbrowser.open('http://www.python.org')\n",
    "\n",
    "# Open the page in a new browser window\n",
    "webbrowser.open_new('https://apple.com')\n",
    "\n",
    "# Open the page in a new browser tab \n",
    "webbrowser.open_new_tab('http://yahoo.com')\n",
    "\n",
    "# open a page in a specific browser\n",
    "c = webbrowser.get('firefox')\n",
    "c.open('http://www.python.org')\n",
    "c.open_new_tab('http://docs.python.org')\n",
    "'''\n",
    "# Windows 10\n",
    "\n",
    "import webbrowser\n",
    "\n",
    "chrome_path = \"C:\\\\Program Files (x86)\\\\Google\\\\Chrome\\\\Application\\\\chrome.exe\"\n",
    "webbrowser.register('chrome', None, webbrowser.BackgroundBrowser(chrome_path),1)\n",
    "c = webbrowser.get('chrome')\n",
    "c.open('http://www.python.org')\n",
    "c.open_new_tab('http://docs.python.org')\n",
    "'''"
   ]
  },
  {
   "cell_type": "code",
   "execution_count": null,
   "metadata": {},
   "outputs": [],
   "source": []
  },
  {
   "cell_type": "code",
   "execution_count": null,
   "metadata": {},
   "outputs": [],
   "source": []
  },
  {
   "cell_type": "code",
   "execution_count": null,
   "metadata": {},
   "outputs": [],
   "source": []
  },
  {
   "cell_type": "code",
   "execution_count": null,
   "metadata": {},
   "outputs": [],
   "source": []
  },
  {
   "cell_type": "code",
   "execution_count": null,
   "metadata": {},
   "outputs": [],
   "source": []
  },
  {
   "cell_type": "code",
   "execution_count": null,
   "metadata": {},
   "outputs": [],
   "source": []
  },
  {
   "cell_type": "code",
   "execution_count": null,
   "metadata": {},
   "outputs": [],
   "source": []
  },
  {
   "cell_type": "code",
   "execution_count": null,
   "metadata": {},
   "outputs": [],
   "source": []
  },
  {
   "cell_type": "code",
   "execution_count": null,
   "metadata": {},
   "outputs": [],
   "source": []
  },
  {
   "cell_type": "code",
   "execution_count": null,
   "metadata": {},
   "outputs": [],
   "source": []
  },
  {
   "cell_type": "code",
   "execution_count": null,
   "metadata": {},
   "outputs": [],
   "source": []
  },
  {
   "cell_type": "code",
   "execution_count": null,
   "metadata": {},
   "outputs": [],
   "source": []
  },
  {
   "cell_type": "code",
   "execution_count": null,
   "metadata": {},
   "outputs": [],
   "source": []
  },
  {
   "cell_type": "code",
   "execution_count": null,
   "metadata": {},
   "outputs": [],
   "source": []
  },
  {
   "cell_type": "code",
   "execution_count": null,
   "metadata": {},
   "outputs": [],
   "source": []
  }
 ],
 "metadata": {
  "kernelspec": {
   "display_name": "Python 3",
   "language": "python",
   "name": "python3"
  },
  "language_info": {
   "codemirror_mode": {
    "name": "ipython",
    "version": 3
   },
   "file_extension": ".py",
   "mimetype": "text/x-python",
   "name": "python",
   "nbconvert_exporter": "python",
   "pygments_lexer": "ipython3",
   "version": "3.5.2"
  }
 },
 "nbformat": 4,
 "nbformat_minor": 2
}
