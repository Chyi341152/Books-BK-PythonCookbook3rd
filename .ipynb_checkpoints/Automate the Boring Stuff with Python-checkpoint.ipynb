{
 "cells": [
  {
   "cell_type": "markdown",
   "metadata": {},
   "source": [
    "# A Installing Third - Party Modules"
   ]
  },
  {
   "cell_type": "markdown",
   "metadata": {},
   "source": [
    "# Chapter18. Controlling The Keyboard and Mouse WIth GUI Automation"
   ]
  },
  {
   "cell_type": "code",
   "execution_count": 10,
   "metadata": {},
   "outputs": [
    {
     "data": {
      "text/plain": [
       "(100, 200)"
      ]
     },
     "execution_count": 10,
     "metadata": {},
     "output_type": "execute_result"
    }
   ],
   "source": [
    "# pyautogui module has functions for simulating mouse movements button clicks, and scrolling the mouse wheel\n",
    "import pyautogui\n",
    "\n",
    "pyautogui.PAUSE = 1.5 # PyAutoGUI function call will wait one and a half seconds after performing its action\n",
    "pyautogui.FAILSAFE = True # fail-safe feature \n",
    "\n",
    "width, heigh = pyautogui.size() # return a screen width and height in pixels\n",
    "\n",
    "for i in range(2):\n",
    "    pyautogui.moveTo(100,100, duration=0.1) # Move the mouse cursor to a specified position on the screen; duration\n",
    "    pyautogui.moveTo(200, 100, duration=0.1)\n",
    "    pyautogui.moveTo(200, 200, duration=0.1)\n",
    "    pyautogui.moveTo(100, 200, duration=0.1)\n",
    "\n",
    "for i in range(2):\n",
    "    pyautogui.moveRel(100,0, duration=0.1)\n",
    "    pyautogui.moveRel(0, 100, duration=0.1)\n",
    "    pyautogui.moveRel(-100,0, duration=0.1)\n",
    "    pyautogui.moveRel(0, -100, duration=0.1)\n",
    "    \n",
    "# Getting the Mouse Position \n",
    "pyautogui.position()"
   ]
  }
 ],
 "metadata": {
  "kernelspec": {
   "display_name": "Python 3",
   "language": "python",
   "name": "python3"
  },
  "language_info": {
   "codemirror_mode": {
    "name": "ipython",
    "version": 3
   },
   "file_extension": ".py",
   "mimetype": "text/x-python",
   "name": "python",
   "nbconvert_exporter": "python",
   "pygments_lexer": "ipython3",
   "version": "3.5.2"
  }
 },
 "nbformat": 4,
 "nbformat_minor": 2
}
