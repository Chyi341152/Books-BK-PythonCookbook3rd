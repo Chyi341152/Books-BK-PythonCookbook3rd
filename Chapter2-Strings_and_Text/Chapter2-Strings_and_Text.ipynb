{
 "cells": [
  {
   "cell_type": "markdown",
   "metadata": {},
   "source": [
    "# 2.1.Spliting Strings on Any of Multiple Delimiters\n"
   ]
  },
  {
   "cell_type": "code",
   "execution_count": 2,
   "metadata": {},
   "outputs": [],
   "source": [
    "line = 'asdf fjdk; afed, fjek,asdf, foo'\n",
    "import re \n",
    "fields = re.split(r'[;,\\s]\\s*', line) # specify multiple patterns for the separator \n"
   ]
  },
  {
   "cell_type": "markdown",
   "metadata": {},
   "source": [
    "# 2.2.Matching Text at the Start or End of a String"
   ]
  },
  {
   "cell_type": "code",
   "execution_count": 12,
   "metadata": {},
   "outputs": [
    {
     "data": {
      "text/plain": [
       "True"
      ]
     },
     "execution_count": 12,
     "metadata": {},
     "output_type": "execute_result"
    }
   ],
   "source": [
    "# Use the str.startswith() str.endswith()\n",
    "filename = 'spam.txt'\n",
    "filename.endswith('.txt')\n",
    "filename.startswith('file:')\n",
    "url = 'http://www.python.org'\n",
    "url.startswith('http:')\n",
    "\n",
    "import os\n",
    "filenames = os.listdir('.')\n",
    "[name for name in filenames if name.endswith(('.ipynb'))]\n",
    "any(name.endswith('.ipynb') for name in filenames)\n",
    "\n",
    "from urllib.request import urlopen\n",
    "\n",
    "def read_data(name):\n",
    "    if name.startswith(('http:', 'https:', 'ftp:')):\n",
    "        return urlopen(name).read()\n",
    "    else:\n",
    "        with open(name) as f:\n",
    "            return f.read()\n",
    "\n",
    "choices = ['http:', 'ftp:']\n",
    "url = 'http://www.python.org'\n",
    "url.startswith(tuple(choices))\n",
    "\n",
    "# prefix and suffix checking \n"
   ]
  },
  {
   "cell_type": "markdown",
   "metadata": {},
   "source": [
    "# 2.3.Matching Strings Using Shell Wildcard Patterns\n"
   ]
  },
  {
   "cell_type": "code",
   "execution_count": 17,
   "metadata": {},
   "outputs": [
    {
     "data": {
      "text/plain": [
       "['5412 N CLARK ST', '1060 W ADDISON ST', '2122 N CLARK ST']"
      ]
     },
     "execution_count": 17,
     "metadata": {},
     "output_type": "execute_result"
    }
   ],
   "source": [
    "from fnmatch import fnmatch, fnmatchcase \n",
    "fnmatch('foo.txt','*.txt') # using the same case-sensitivity rule as the system's underlying filesystem\n",
    "\n",
    "fnmatch('foo.txt', '?oo.txt')\n",
    "names = ['Dat1.csv', 'Dat2.csv', 'config.ini', 'foo.py']\n",
    "[name for name in names if fnmatch(name, 'Dat*.csv')]\n",
    "\n",
    "addresses = [\n",
    "'5412 N CLARK ST',\n",
    "'1060 W ADDISON ST',\n",
    "'1039 W GRANVILLE AVE',\n",
    "'2122 N CLARK ST',\n",
    "'4802 N BROADWAY',\n",
    "]\n",
    "from fnmatch import fnmatchcase \n",
    "[addr for addr in addresses if fnmatchcase(addr, '* ST')]\n"
   ]
  },
  {
   "cell_type": "markdown",
   "metadata": {},
   "source": [
    "# 2.4.Matching and Searching for Text Patterns\n"
   ]
  },
  {
   "cell_type": "code",
   "execution_count": 31,
   "metadata": {},
   "outputs": [
    {
     "name": "stdout",
     "output_type": "stream",
     "text": [
      "yes\n",
      "yes\n",
      "2012-11-27\n",
      "2013-3-13\n"
     ]
    }
   ],
   "source": [
    "text = 'yeah, but no, but yeah, but no, but yeah'\n",
    "\n",
    "# Exact match \n",
    "text == 'yeah'\n",
    "\n",
    "# Search for the location of the first occurrence \n",
    "text.find('no')\n",
    "\n",
    "text1 = '11/27/2012'\n",
    "text2 = 'Nov 27, 2012'\n",
    "\n",
    "import re \n",
    "# Simple matching: \\d+ means match one or more digits\n",
    "if re.match(r'\\d+/\\d+/\\d+', text1):\n",
    "    print('yes')\n",
    "else:\n",
    "    print('no')\n",
    "    \n",
    "datepat = re.compile(r'\\d+/\\d+/\\d+')\n",
    "if datepat.match(text1):\n",
    "    print('yes')\n",
    "else:\n",
    "    print('no')\n",
    "\n",
    "text = 'Today is 11/27/2012. PyCon starts 3/13/2013.'\n",
    "datepat.findall(text)\n",
    "\n",
    "datepat = re.compile(r'(\\d+)/(\\d+)/(\\d+)')\n",
    "m = datepat.match('11/27/2012')\n",
    "m.group(0)\n",
    "m.groups()\n",
    "# findall method searches the text and finds all matches \n",
    "for month, day, year in datepat.findall(text):\n",
    "    print('{}-{}-{}'.format(year, month, day))\n"
   ]
  },
  {
   "cell_type": "markdown",
   "metadata": {},
   "source": [
    "# 2.5. Searching and Replacing Text"
   ]
  },
  {
   "cell_type": "code",
   "execution_count": 37,
   "metadata": {},
   "outputs": [
    {
     "name": "stdout",
     "output_type": "stream",
     "text": [
      "Today is 2012-11-27. PyCon starts 2013-3-13. 2\n"
     ]
    }
   ],
   "source": [
    "text = 'yeah, but no, but yeah, but no, but yeah'\n",
    "text.replace('yeah', 'yep')\n",
    "text = 'Today is 11/27/2012. PyCon starts 3/13/2013.'\n",
    "import re\n",
    "# sub - substitutions 替代\n",
    "re.sub(r'(\\d+)/(\\d+)/(\\d+)', r'\\3-\\1-\\2', text) # Backslashed digits such as \\3 refer to capture group numbers\n",
    "\n",
    "# If you're going to perform repeated\n",
    "from calendar import month_abbr # an array that represents the abbreviated months of the year in the current locate.\n",
    "# month_abbr[0] is the empty string\n",
    "\n",
    "def change_date(m):\n",
    "    mon_name = month_abbr[int(m.group(1))]\n",
    "    return '{} {} {}'.format(m.group(2), mon_name, m.group(3))\n",
    "\n",
    "datepat.sub(change_date, text)\n",
    "\n",
    "# how many substitutions were made\n",
    "newtext, n = datepat.subn(r'\\3-\\1-\\2', text)\n",
    "print(newtext, n)"
   ]
  },
  {
   "cell_type": "markdown",
   "metadata": {},
   "source": [
    "# 2.6. Searching and Replacing Case-Insensitive Text"
   ]
  },
  {
   "cell_type": "code",
   "execution_count": 41,
   "metadata": {},
   "outputs": [
    {
     "data": {
      "text/plain": [
       "'UPPER SNAKE, lower snake, Mixed Snake'"
      ]
     },
     "execution_count": 41,
     "metadata": {},
     "output_type": "execute_result"
    }
   ],
   "source": [
    "text = 'UPPER PYTHON, lower python, Mixed Python'\n",
    "# to perform case-insensitive text operations, need use the re module \n",
    "re.findall('python', text, flags=re.IGNORECASE)\n",
    "re.sub('python', 'snake', text, flags=re.IGNORECASE)\n",
    "\n",
    "def matchcase(word):\n",
    "    def replace(m):\n",
    "        text = m.group()\n",
    "        if text.isupper():\n",
    "            return word.upper()\n",
    "        elif text.islower():\n",
    "            return word.lower()\n",
    "        elif text[0].isupper():\n",
    "            return word.capitalize()\n",
    "        else:\n",
    "            return word \n",
    "    return replace\n",
    "re.sub('python', matchcase('snake'), text, flags=re.IGNORECASE)\n"
   ]
  },
  {
   "cell_type": "markdown",
   "metadata": {},
   "source": [
    "# 2.7. Specifying a Regular Expression for the Shortest"
   ]
  },
  {
   "cell_type": "code",
   "execution_count": 45,
   "metadata": {},
   "outputs": [
    {
     "data": {
      "text/plain": [
       "['no.', 'yes.']"
      ]
     },
     "execution_count": 45,
     "metadata": {},
     "output_type": "execute_result"
    }
   ],
   "source": [
    "# it is identifying the longest possible matches of a pattern of a pattern. Instead, you would like to change it to find the shortest possible match\n",
    "str_pat = re.compile(r'\\\"(.*)\\\"')\n",
    "text1 = 'Computer says \"no.\"'\n",
    "str_pat.findall(text1)\n",
    "text2 = 'Computer says \"no.\" Phone says \"yes.\"'\n",
    "str_pat.findall(text2)\n",
    "# * operator in a regular expression is greedy; ?modifier after the * operator in the pattern \n",
    "str_pat = re.compile(r'\\\"(.*?)\\\"')\n",
    "str_pat.findall(text2)\n",
    "\n",
    "# In a pattern, the dot matches any character except a newline.\n",
    "# ? forces the matching algorithm to look for the shortest possible match instead "
   ]
  },
  {
   "cell_type": "markdown",
   "metadata": {},
   "source": [
    "# 2.8. Writing a Regular Expression for Multiline Patterns"
   ]
  },
  {
   "cell_type": "code",
   "execution_count": 53,
   "metadata": {},
   "outputs": [
    {
     "data": {
      "text/plain": [
       "[' this is a \\nmutiline comment ']"
      ]
     },
     "execution_count": 53,
     "metadata": {},
     "output_type": "execute_result"
    }
   ],
   "source": [
    "# trying to match C-style comments \n",
    "comment = re.compile(r'/\\*(.*?)\\*/')\n",
    "text1 = '/* this is a comment */'\n",
    "text2 = '''/* this is a \n",
    "mutiline comment */\n",
    "'''\n",
    "comment.findall(text1)\n",
    "comment.findall(text2)\n",
    "\n",
    "# fix the problem, you can add support for newlines \n",
    "comment = re.compile(r'/\\*((?:.|\\n)*?)\\*/')\n",
    "comment.findall(text2)\n",
    "\n",
    "# (?:.|\\n) specifies a noncapture group \n",
    "\n",
    "comment = re.compile(r'/\\*(.*?)\\*/', re.DOTALL)\n",
    "comment.findall(text2)"
   ]
  },
  {
   "cell_type": "markdown",
   "metadata": {},
   "source": [
    "# 2.9. Normalizing Unicode Text to a Standard"
   ]
  },
  {
   "cell_type": "code",
   "execution_count": 67,
   "metadata": {
    "scrolled": true
   },
   "outputs": [
    {
     "name": "stdout",
     "output_type": "stream",
     "text": [
      "'Spicy Jalape\\xf1o'\n",
      "'Spicy Jalapen\\u0303o'\n"
     ]
    },
    {
     "data": {
      "text/plain": [
       "'Spicy Jalapeno'"
      ]
     },
     "execution_count": 67,
     "metadata": {},
     "output_type": "execute_result"
    }
   ],
   "source": [
    "# In Unicode, certain characters can be represented by more than one valid sequence of code points\n",
    "s1 = 'Spicy Jalape\\u00f1o'\n",
    "s2 = 'Spicy Jalapen\\u0303o'\n",
    "s1 == s2\n",
    "len(s1) == len(s2)\n",
    "# Having multiple representations is a problem for programs that compare strings \n",
    "import unicodedata\n",
    "t1 = unicodedata.normalize('NFC',s1) # NFC full composed \n",
    "t2 = unicodedata.normalize('NFC', s2)\n",
    "t1 == t2\n",
    "print(ascii(t1))\n",
    "\n",
    "t1 = unicodedata.normalize('NFD',s1) #  NFD fully decomposed \n",
    "t2 = unicodedata.normalize('NFD', s2)\n",
    "t1 == t2\n",
    "print(ascii(t1))\n",
    "\n",
    "s = '\\ufb01' # A single character\n",
    "unicodedata.normalize('NFD',s)\n",
    "\n",
    "# Notice how the combined letters are broken apart here\n",
    "unicodedata.normalize('NFKD',s)\n",
    "\n",
    "t1 = unicodedata.normalize('NFD', s1)\n",
    "''.join(c for c in t1 if not unicodedata.combining(c)) # combining() function test a character to see if it is a combining character"
   ]
  },
  {
   "cell_type": "markdown",
   "metadata": {},
   "source": [
    "# 2.10. Working with Unicode Characters in Regular Expressions"
   ]
  },
  {
   "cell_type": "code",
   "execution_count": 71,
   "metadata": {},
   "outputs": [],
   "source": [
    "# \\d match any unicode digit character \n",
    "import re \n",
    "num = re.compile('\\d+')\n",
    "# ASCII digits\n",
    "num.match('123')\n",
    "\n",
    "# Arabic digits  阿拉伯数字\n",
    "num.match('\\u0661\\u0662\\u0663')\n",
    "\n",
    "pat = re.compile('stra\\u00dfe', re.IGNORECASE)\n",
    "s = 'straβe'\n",
    "pat.match(s)"
   ]
  },
  {
   "cell_type": "markdown",
   "metadata": {},
   "source": [
    "# 2.11. Stripping Unwanted Characters from Strings"
   ]
  },
  {
   "cell_type": "code",
   "execution_count": 79,
   "metadata": {},
   "outputs": [
    {
     "data": {
      "text/plain": [
       "' hello world '"
      ]
     },
     "execution_count": 79,
     "metadata": {},
     "output_type": "execute_result"
    }
   ],
   "source": [
    "# strip() method can be used to strip characters from the beginning or end of a string \n",
    "# lstrip() and rstrip() perform stripping from the left or right side \n",
    "# Whitespace stripping \n",
    "s = '    hello world \\n'\n",
    "s.strip()\n",
    "s.lstrip()\n",
    "s.rstrip()\n",
    "\n",
    "# Character stripping\n",
    "t = '-----hello====='\n",
    "t.lstrip('-')\n",
    "t.strip('-=')\n",
    "\n",
    "# replace() method or a regular expression substitution\n",
    "s.replace(' ','')\n",
    "import re\n",
    "re.sub('\\s+',' ',s)\n"
   ]
  },
  {
   "cell_type": "markdown",
   "metadata": {},
   "source": [
    "# 2.12. Sanitizing and Cleaning Up Text"
   ]
  },
  {
   "cell_type": "code",
   "execution_count": 84,
   "metadata": {},
   "outputs": [
    {
     "data": {
      "text/plain": [
       "{48: 48,\n",
       " 49: 49,\n",
       " 50: 50,\n",
       " 51: 51,\n",
       " 52: 52,\n",
       " 53: 53,\n",
       " 54: 54,\n",
       " 55: 55,\n",
       " 56: 56,\n",
       " 57: 57,\n",
       " 1632: 48,\n",
       " 1633: 49,\n",
       " 1634: 50,\n",
       " 1635: 51,\n",
       " 1636: 52,\n",
       " 1637: 53,\n",
       " 1638: 54,\n",
       " 1639: 55,\n",
       " 1640: 56,\n",
       " 1641: 57,\n",
       " 1776: 48,\n",
       " 1777: 49,\n",
       " 1778: 50,\n",
       " 1779: 51,\n",
       " 1780: 52,\n",
       " 1781: 53,\n",
       " 1782: 54,\n",
       " 1783: 55,\n",
       " 1784: 56,\n",
       " 1785: 57,\n",
       " 1984: 48,\n",
       " 1985: 49,\n",
       " 1986: 50,\n",
       " 1987: 51,\n",
       " 1988: 52,\n",
       " 1989: 53,\n",
       " 1990: 54,\n",
       " 1991: 55,\n",
       " 1992: 56,\n",
       " 1993: 57,\n",
       " 2406: 48,\n",
       " 2407: 49,\n",
       " 2408: 50,\n",
       " 2409: 51,\n",
       " 2410: 52,\n",
       " 2411: 53,\n",
       " 2412: 54,\n",
       " 2413: 55,\n",
       " 2414: 56,\n",
       " 2415: 57,\n",
       " 2534: 48,\n",
       " 2535: 49,\n",
       " 2536: 50,\n",
       " 2537: 51,\n",
       " 2538: 52,\n",
       " 2539: 53,\n",
       " 2540: 54,\n",
       " 2541: 55,\n",
       " 2542: 56,\n",
       " 2543: 57,\n",
       " 2662: 48,\n",
       " 2663: 49,\n",
       " 2664: 50,\n",
       " 2665: 51,\n",
       " 2666: 52,\n",
       " 2667: 53,\n",
       " 2668: 54,\n",
       " 2669: 55,\n",
       " 2670: 56,\n",
       " 2671: 57,\n",
       " 2790: 48,\n",
       " 2791: 49,\n",
       " 2792: 50,\n",
       " 2793: 51,\n",
       " 2794: 52,\n",
       " 2795: 53,\n",
       " 2796: 54,\n",
       " 2797: 55,\n",
       " 2798: 56,\n",
       " 2799: 57,\n",
       " 2918: 48,\n",
       " 2919: 49,\n",
       " 2920: 50,\n",
       " 2921: 51,\n",
       " 2922: 52,\n",
       " 2923: 53,\n",
       " 2924: 54,\n",
       " 2925: 55,\n",
       " 2926: 56,\n",
       " 2927: 57,\n",
       " 3046: 48,\n",
       " 3047: 49,\n",
       " 3048: 50,\n",
       " 3049: 51,\n",
       " 3050: 52,\n",
       " 3051: 53,\n",
       " 3052: 54,\n",
       " 3053: 55,\n",
       " 3054: 56,\n",
       " 3055: 57,\n",
       " 3174: 48,\n",
       " 3175: 49,\n",
       " 3176: 50,\n",
       " 3177: 51,\n",
       " 3178: 52,\n",
       " 3179: 53,\n",
       " 3180: 54,\n",
       " 3181: 55,\n",
       " 3182: 56,\n",
       " 3183: 57,\n",
       " 3302: 48,\n",
       " 3303: 49,\n",
       " 3304: 50,\n",
       " 3305: 51,\n",
       " 3306: 52,\n",
       " 3307: 53,\n",
       " 3308: 54,\n",
       " 3309: 55,\n",
       " 3310: 56,\n",
       " 3311: 57,\n",
       " 3430: 48,\n",
       " 3431: 49,\n",
       " 3432: 50,\n",
       " 3433: 51,\n",
       " 3434: 52,\n",
       " 3435: 53,\n",
       " 3436: 54,\n",
       " 3437: 55,\n",
       " 3438: 56,\n",
       " 3439: 57,\n",
       " 3558: 48,\n",
       " 3559: 49,\n",
       " 3560: 50,\n",
       " 3561: 51,\n",
       " 3562: 52,\n",
       " 3563: 53,\n",
       " 3564: 54,\n",
       " 3565: 55,\n",
       " 3566: 56,\n",
       " 3567: 57,\n",
       " 3664: 48,\n",
       " 3665: 49,\n",
       " 3666: 50,\n",
       " 3667: 51,\n",
       " 3668: 52,\n",
       " 3669: 53,\n",
       " 3670: 54,\n",
       " 3671: 55,\n",
       " 3672: 56,\n",
       " 3673: 57,\n",
       " 3792: 48,\n",
       " 3793: 49,\n",
       " 3794: 50,\n",
       " 3795: 51,\n",
       " 3796: 52,\n",
       " 3797: 53,\n",
       " 3798: 54,\n",
       " 3799: 55,\n",
       " 3800: 56,\n",
       " 3801: 57,\n",
       " 3872: 48,\n",
       " 3873: 49,\n",
       " 3874: 50,\n",
       " 3875: 51,\n",
       " 3876: 52,\n",
       " 3877: 53,\n",
       " 3878: 54,\n",
       " 3879: 55,\n",
       " 3880: 56,\n",
       " 3881: 57,\n",
       " 4160: 48,\n",
       " 4161: 49,\n",
       " 4162: 50,\n",
       " 4163: 51,\n",
       " 4164: 52,\n",
       " 4165: 53,\n",
       " 4166: 54,\n",
       " 4167: 55,\n",
       " 4168: 56,\n",
       " 4169: 57,\n",
       " 4240: 48,\n",
       " 4241: 49,\n",
       " 4242: 50,\n",
       " 4243: 51,\n",
       " 4244: 52,\n",
       " 4245: 53,\n",
       " 4246: 54,\n",
       " 4247: 55,\n",
       " 4248: 56,\n",
       " 4249: 57,\n",
       " 6112: 48,\n",
       " 6113: 49,\n",
       " 6114: 50,\n",
       " 6115: 51,\n",
       " 6116: 52,\n",
       " 6117: 53,\n",
       " 6118: 54,\n",
       " 6119: 55,\n",
       " 6120: 56,\n",
       " 6121: 57,\n",
       " 6160: 48,\n",
       " 6161: 49,\n",
       " 6162: 50,\n",
       " 6163: 51,\n",
       " 6164: 52,\n",
       " 6165: 53,\n",
       " 6166: 54,\n",
       " 6167: 55,\n",
       " 6168: 56,\n",
       " 6169: 57,\n",
       " 6470: 48,\n",
       " 6471: 49,\n",
       " 6472: 50,\n",
       " 6473: 51,\n",
       " 6474: 52,\n",
       " 6475: 53,\n",
       " 6476: 54,\n",
       " 6477: 55,\n",
       " 6478: 56,\n",
       " 6479: 57,\n",
       " 6608: 48,\n",
       " 6609: 49,\n",
       " 6610: 50,\n",
       " 6611: 51,\n",
       " 6612: 52,\n",
       " 6613: 53,\n",
       " 6614: 54,\n",
       " 6615: 55,\n",
       " 6616: 56,\n",
       " 6617: 57,\n",
       " 6784: 48,\n",
       " 6785: 49,\n",
       " 6786: 50,\n",
       " 6787: 51,\n",
       " 6788: 52,\n",
       " 6789: 53,\n",
       " 6790: 54,\n",
       " 6791: 55,\n",
       " 6792: 56,\n",
       " 6793: 57,\n",
       " 6800: 48,\n",
       " 6801: 49,\n",
       " 6802: 50,\n",
       " 6803: 51,\n",
       " 6804: 52,\n",
       " 6805: 53,\n",
       " 6806: 54,\n",
       " 6807: 55,\n",
       " 6808: 56,\n",
       " 6809: 57,\n",
       " 6992: 48,\n",
       " 6993: 49,\n",
       " 6994: 50,\n",
       " 6995: 51,\n",
       " 6996: 52,\n",
       " 6997: 53,\n",
       " 6998: 54,\n",
       " 6999: 55,\n",
       " 7000: 56,\n",
       " 7001: 57,\n",
       " 7088: 48,\n",
       " 7089: 49,\n",
       " 7090: 50,\n",
       " 7091: 51,\n",
       " 7092: 52,\n",
       " 7093: 53,\n",
       " 7094: 54,\n",
       " 7095: 55,\n",
       " 7096: 56,\n",
       " 7097: 57,\n",
       " 7232: 48,\n",
       " 7233: 49,\n",
       " 7234: 50,\n",
       " 7235: 51,\n",
       " 7236: 52,\n",
       " 7237: 53,\n",
       " 7238: 54,\n",
       " 7239: 55,\n",
       " 7240: 56,\n",
       " 7241: 57,\n",
       " 7248: 48,\n",
       " 7249: 49,\n",
       " 7250: 50,\n",
       " 7251: 51,\n",
       " 7252: 52,\n",
       " 7253: 53,\n",
       " 7254: 54,\n",
       " 7255: 55,\n",
       " 7256: 56,\n",
       " 7257: 57,\n",
       " 42528: 48,\n",
       " 42529: 49,\n",
       " 42530: 50,\n",
       " 42531: 51,\n",
       " 42532: 52,\n",
       " 42533: 53,\n",
       " 42534: 54,\n",
       " 42535: 55,\n",
       " 42536: 56,\n",
       " 42537: 57,\n",
       " 43216: 48,\n",
       " 43217: 49,\n",
       " 43218: 50,\n",
       " 43219: 51,\n",
       " 43220: 52,\n",
       " 43221: 53,\n",
       " 43222: 54,\n",
       " 43223: 55,\n",
       " 43224: 56,\n",
       " 43225: 57,\n",
       " 43264: 48,\n",
       " 43265: 49,\n",
       " 43266: 50,\n",
       " 43267: 51,\n",
       " 43268: 52,\n",
       " 43269: 53,\n",
       " 43270: 54,\n",
       " 43271: 55,\n",
       " 43272: 56,\n",
       " 43273: 57,\n",
       " 43472: 48,\n",
       " 43473: 49,\n",
       " 43474: 50,\n",
       " 43475: 51,\n",
       " 43476: 52,\n",
       " 43477: 53,\n",
       " 43478: 54,\n",
       " 43479: 55,\n",
       " 43480: 56,\n",
       " 43481: 57,\n",
       " 43504: 48,\n",
       " 43505: 49,\n",
       " 43506: 50,\n",
       " 43507: 51,\n",
       " 43508: 52,\n",
       " 43509: 53,\n",
       " 43510: 54,\n",
       " 43511: 55,\n",
       " 43512: 56,\n",
       " 43513: 57,\n",
       " 43600: 48,\n",
       " 43601: 49,\n",
       " 43602: 50,\n",
       " 43603: 51,\n",
       " 43604: 52,\n",
       " 43605: 53,\n",
       " 43606: 54,\n",
       " 43607: 55,\n",
       " 43608: 56,\n",
       " 43609: 57,\n",
       " 44016: 48,\n",
       " 44017: 49,\n",
       " 44018: 50,\n",
       " 44019: 51,\n",
       " 44020: 52,\n",
       " 44021: 53,\n",
       " 44022: 54,\n",
       " 44023: 55,\n",
       " 44024: 56,\n",
       " 44025: 57,\n",
       " 65296: 48,\n",
       " 65297: 49,\n",
       " 65298: 50,\n",
       " 65299: 51,\n",
       " 65300: 52,\n",
       " 65301: 53,\n",
       " 65302: 54,\n",
       " 65303: 55,\n",
       " 65304: 56,\n",
       " 65305: 57,\n",
       " 66720: 48,\n",
       " 66721: 49,\n",
       " 66722: 50,\n",
       " 66723: 51,\n",
       " 66724: 52,\n",
       " 66725: 53,\n",
       " 66726: 54,\n",
       " 66727: 55,\n",
       " 66728: 56,\n",
       " 66729: 57,\n",
       " 69734: 48,\n",
       " 69735: 49,\n",
       " 69736: 50,\n",
       " 69737: 51,\n",
       " 69738: 52,\n",
       " 69739: 53,\n",
       " 69740: 54,\n",
       " 69741: 55,\n",
       " 69742: 56,\n",
       " 69743: 57,\n",
       " 69872: 48,\n",
       " 69873: 49,\n",
       " 69874: 50,\n",
       " 69875: 51,\n",
       " 69876: 52,\n",
       " 69877: 53,\n",
       " 69878: 54,\n",
       " 69879: 55,\n",
       " 69880: 56,\n",
       " 69881: 57,\n",
       " 69942: 48,\n",
       " 69943: 49,\n",
       " 69944: 50,\n",
       " 69945: 51,\n",
       " 69946: 52,\n",
       " 69947: 53,\n",
       " 69948: 54,\n",
       " 69949: 55,\n",
       " 69950: 56,\n",
       " 69951: 57,\n",
       " 70096: 48,\n",
       " 70097: 49,\n",
       " 70098: 50,\n",
       " 70099: 51,\n",
       " 70100: 52,\n",
       " 70101: 53,\n",
       " 70102: 54,\n",
       " 70103: 55,\n",
       " 70104: 56,\n",
       " 70105: 57,\n",
       " 70384: 48,\n",
       " 70385: 49,\n",
       " 70386: 50,\n",
       " 70387: 51,\n",
       " 70388: 52,\n",
       " 70389: 53,\n",
       " 70390: 54,\n",
       " 70391: 55,\n",
       " 70392: 56,\n",
       " 70393: 57,\n",
       " 70864: 48,\n",
       " 70865: 49,\n",
       " 70866: 50,\n",
       " 70867: 51,\n",
       " 70868: 52,\n",
       " 70869: 53,\n",
       " 70870: 54,\n",
       " 70871: 55,\n",
       " 70872: 56,\n",
       " 70873: 57,\n",
       " 71248: 48,\n",
       " 71249: 49,\n",
       " 71250: 50,\n",
       " 71251: 51,\n",
       " 71252: 52,\n",
       " 71253: 53,\n",
       " 71254: 54,\n",
       " 71255: 55,\n",
       " 71256: 56,\n",
       " 71257: 57,\n",
       " 71360: 48,\n",
       " 71361: 49,\n",
       " 71362: 50,\n",
       " 71363: 51,\n",
       " 71364: 52,\n",
       " 71365: 53,\n",
       " 71366: 54,\n",
       " 71367: 55,\n",
       " 71368: 56,\n",
       " 71369: 57,\n",
       " 71472: 48,\n",
       " 71473: 49,\n",
       " 71474: 50,\n",
       " 71475: 51,\n",
       " 71476: 52,\n",
       " 71477: 53,\n",
       " 71478: 54,\n",
       " 71479: 55,\n",
       " 71480: 56,\n",
       " 71481: 57,\n",
       " 71904: 48,\n",
       " 71905: 49,\n",
       " 71906: 50,\n",
       " 71907: 51,\n",
       " 71908: 52,\n",
       " 71909: 53,\n",
       " 71910: 54,\n",
       " 71911: 55,\n",
       " 71912: 56,\n",
       " 71913: 57,\n",
       " 92768: 48,\n",
       " 92769: 49,\n",
       " 92770: 50,\n",
       " 92771: 51,\n",
       " 92772: 52,\n",
       " 92773: 53,\n",
       " 92774: 54,\n",
       " 92775: 55,\n",
       " 92776: 56,\n",
       " 92777: 57,\n",
       " 93008: 48,\n",
       " 93009: 49,\n",
       " 93010: 50,\n",
       " 93011: 51,\n",
       " 93012: 52,\n",
       " 93013: 53,\n",
       " 93014: 54,\n",
       " 93015: 55,\n",
       " 93016: 56,\n",
       " 93017: 57,\n",
       " 120782: 48,\n",
       " 120783: 49,\n",
       " 120784: 50,\n",
       " 120785: 51,\n",
       " 120786: 52,\n",
       " 120787: 53,\n",
       " 120788: 54,\n",
       " 120789: 55,\n",
       " 120790: 56,\n",
       " 120791: 57,\n",
       " 120792: 48,\n",
       " 120793: 49,\n",
       " 120794: 50,\n",
       " 120795: 51,\n",
       " 120796: 52,\n",
       " 120797: 53,\n",
       " 120798: 54,\n",
       " 120799: 55,\n",
       " 120800: 56,\n",
       " 120801: 57,\n",
       " 120802: 48,\n",
       " 120803: 49,\n",
       " 120804: 50,\n",
       " 120805: 51,\n",
       " 120806: 52,\n",
       " 120807: 53,\n",
       " 120808: 54,\n",
       " 120809: 55,\n",
       " 120810: 56,\n",
       " 120811: 57,\n",
       " 120812: 48,\n",
       " 120813: 49,\n",
       " 120814: 50,\n",
       " 120815: 51,\n",
       " 120816: 52,\n",
       " 120817: 53,\n",
       " 120818: 54,\n",
       " 120819: 55,\n",
       " 120820: 56,\n",
       " 120821: 57,\n",
       " 120822: 48,\n",
       " 120823: 49,\n",
       " 120824: 50,\n",
       " 120825: 51,\n",
       " 120826: 52,\n",
       " 120827: 53,\n",
       " 120828: 54,\n",
       " 120829: 55,\n",
       " 120830: 56,\n",
       " 120831: 57}"
      ]
     },
     "execution_count": 84,
     "metadata": {},
     "output_type": "execute_result"
    }
   ],
   "source": [
    "s = 'pýtĥöñ\\fis\\tawesome\\r\\n'\n",
    "remap = {\n",
    "    ord('\\t') : ' ',\n",
    "    ord('\\f') : ' ',\n",
    "    ord('\\r') : None \n",
    "}\n",
    "a = s.translate(remap)\n",
    "\n",
    "import unicodedata\n",
    "import sys \n",
    "cmb_chrs = dict.fromkeys(c for c in range(sys.maxunicode) if unicodedata.combining(chr(c)))\n",
    "b = unicodedata.normalize('NFD', a)\n",
    "b.translate(cmb_chrs)\n",
    "\n",
    "# translation table that maps all Unicode decimal digit characters to their equivalent in ASCII\n",
    "digitmap = { c: ord('0') + unicodedata.digit(chr(c)) for c in range(sys.maxunicode) if unicodedata.category(chr(c)) == 'Nd'}\n",
    "digitmap\n",
    "\n",
    "# Ar"
   ]
  },
  {
   "cell_type": "markdown",
   "metadata": {},
   "source": [
    "# 2.13. Aligning Text Strings\n"
   ]
  },
  {
   "cell_type": "code",
   "execution_count": 100,
   "metadata": {},
   "outputs": [
    {
     "data": {
      "text/plain": [
       "'   1.23   '"
      ]
     },
     "execution_count": 100,
     "metadata": {},
     "output_type": "execute_result"
    }
   ],
   "source": [
    "# ljust(), rjust(), and center() methods of strings can be used\n",
    "text = 'Hello World'\n",
    "text.ljust(20)\n",
    "text.rjust(20)\n",
    "text.center(20)\n",
    "# optional &&65.180&&fill \n",
    "text.rjust(20,'=')\n",
    "text.center(20,'*')\n",
    "# format <,>,^\n",
    "format(text, '>20')\n",
    "format(text, '<20')\n",
    "format(text,'^20')\n",
    "\n",
    "# \n",
    "format(text, '=>20s')\n",
    "format(text, '*^20s')\n",
    "\n",
    "'{:>10s} {:>10s}'.format('Hello','World')\n",
    "x=1.23456\n",
    "format(x, '^10.2f')"
   ]
  },
  {
   "cell_type": "markdown",
   "metadata": {},
   "source": [
    "# 2.14. Combining and Concatenatiing Strings"
   ]
  },
  {
   "cell_type": "code",
   "execution_count": 110,
   "metadata": {},
   "outputs": [
    {
     "data": {
      "text/plain": [
       "'IsChicagoNotChicago?'"
      ]
     },
     "execution_count": 110,
     "metadata": {},
     "output_type": "execute_result"
    }
   ],
   "source": [
    "# the fastest way to combine is use the join() method\n",
    "parts = ['Is', 'Chicago', 'Not', 'Chicago?']\n",
    "' '.join(parts)\n",
    "','.join(parts)\n",
    "''.join(parts)\n",
    "a = 'Is Chicago'\n",
    "b = 'Not Chicago?'\n",
    "a + ' ' + b\n",
    "# += operation creates a new string object \n",
    "data = ['ACME',50,91.1]\n",
    "','.join(str(d) for d in data)\n",
    "def sample():\n",
    "    yield 'Is'\n",
    "    yield 'Chicago'\n",
    "    yield 'Not'\n",
    "    yield 'Chicago?'\n",
    "''.join(sample())\n",
    "\n"
   ]
  },
  {
   "cell_type": "markdown",
   "metadata": {},
   "source": [
    "# 2.15. Interpolating Variables in Strings"
   ]
  },
  {
   "cell_type": "code",
   "execution_count": 114,
   "metadata": {},
   "outputs": [
    {
     "data": {
      "text/plain": [
       "'Guido has 37 messages.'"
      ]
     },
     "execution_count": 114,
     "metadata": {},
     "output_type": "execute_result"
    }
   ],
   "source": [
    "s = '{name} has {n} messages.'\n",
    "s.format(name='Guido', n=37)\n",
    "name = 'Guido'\n",
    "n = 37 \n",
    "s.format_map(vars())\n",
    "class Info:\n",
    "    def __init__(self, name, n):\n",
    "        self.name = name\n",
    "        self.n = n\n",
    "a = Info('Guido',37)\n",
    "s.format_map(vars(a))"
   ]
  },
  {
   "cell_type": "markdown",
   "metadata": {},
   "source": [
    "# 2.16. Reformatting Text to a Fixed Number of Columns"
   ]
  },
  {
   "cell_type": "code",
   "execution_count": 119,
   "metadata": {},
   "outputs": [
    {
     "name": "stdout",
     "output_type": "stream",
     "text": [
      "Look into my eyes, look into my eyes, the eyes, the eyes, the eyes,\n",
      "not around the eyes, don't look around the eyes, look into my eyes,\n",
      "you're under.\n",
      "    Look into my eyes, look into my\n",
      "eyes, the eyes, the eyes, the eyes, not\n",
      "around the eyes, don't look around the\n",
      "eyes, look into my eyes, you're under.\n",
      "Look into my eyes, look into my eyes,\n",
      "    the eyes, the eyes, the eyes, not\n",
      "    around the eyes, don't look around\n",
      "    the eyes, look into my eyes, you're\n",
      "    under.\n"
     ]
    },
    {
     "data": {
      "text/plain": [
       "132"
      ]
     },
     "execution_count": 119,
     "metadata": {},
     "output_type": "execute_result"
    }
   ],
   "source": [
    "s = \"Look into my eyes, look into my eyes, the eyes, the eyes, \\\n",
    "the eyes, not around the eyes, don't look around the eyes, \\\n",
    "look into my eyes, you're under.\"\n",
    "import textwrap # textwrap module to reformat text for output\n",
    "print(textwrap.fill(s,70))\n",
    "print(textwrap.fill(s, 40, initial_indent='    '))\n",
    "print(textwrap.fill(s, 40, subsequent_indent='    '))\n",
    "\n",
    "import os \n",
    "os.get_terminal_size().columns # terminal size "
   ]
  },
  {
   "cell_type": "markdown",
   "metadata": {},
   "source": [
    "# 2.17. Handling HTML and XML Entities in Text"
   ]
  },
  {
   "cell_type": "code",
   "execution_count": 126,
   "metadata": {},
   "outputs": [
    {
     "name": "stdout",
     "output_type": "stream",
     "text": [
      "Elements are written as \"<tag>text</tag>\".\n",
      "Elements are written as &quot;&lt;tag&gt;text&lt;/tag&gt;&quot;.\n",
      "Elements are written as \"&lt;tag&gt;text&lt;/tag&gt;\".\n"
     ]
    },
    {
     "data": {
      "text/plain": [
       "'Spicy \"Jalapeño\".'"
      ]
     },
     "execution_count": 126,
     "metadata": {},
     "output_type": "execute_result"
    }
   ],
   "source": [
    "s = 'Elements are written as \"<tag>text</tag>\".'\n",
    "import html\n",
    "print(s)\n",
    "print(html.escape(s))\n",
    "# Disable escaping of quotes\n",
    "print(html.escape(s, quote=False))\n",
    "\n",
    "# emit text as ASCII\n",
    "s = 'Spicy Jalapeño'\n",
    "s.encode('ascii', errors='xmlcharrefreplace')\n",
    "s = 'Spicy &quot;Jalape&#241;o&quot.'\n",
    "html.unescape(s)\n"
   ]
  },
  {
   "cell_type": "markdown",
   "metadata": {},
   "source": [
    "# 2.18. Tokenizing Text"
   ]
  },
  {
   "cell_type": "code",
   "execution_count": null,
   "metadata": {},
   "outputs": [],
   "source": []
  }
 ],
 "metadata": {
  "kernelspec": {
   "display_name": "Python 3",
   "language": "python",
   "name": "python3"
  },
  "language_info": {
   "codemirror_mode": {
    "name": "ipython",
    "version": 3
   },
   "file_extension": ".py",
   "mimetype": "text/x-python",
   "name": "python",
   "nbconvert_exporter": "python",
   "pygments_lexer": "ipython3",
   "version": "3.5.2"
  }
 },
 "nbformat": 4,
 "nbformat_minor": 2
}
