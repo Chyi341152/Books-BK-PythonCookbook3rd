{
 "cells": [
  {
   "cell_type": "markdown",
   "metadata": {},
   "source": [
    "# 8.1. Changing the String Representation of Instances"
   ]
  },
  {
   "cell_type": "code",
   "execution_count": 4,
   "metadata": {},
   "outputs": [
    {
     "name": "stdout",
     "output_type": "stream",
     "text": [
      "(3, 4)\n"
     ]
    },
    {
     "data": {
      "text/plain": [
       "Pair(3, 4)"
      ]
     },
     "execution_count": 4,
     "metadata": {},
     "output_type": "execute_result"
    }
   ],
   "source": [
    "# To change the string representation of an instance, define the __str__() and __repr__() method\n",
    "class Pair:\n",
    "    def __init__(self, x, y):\n",
    "        self.x = x\n",
    "        self.y = y\n",
    "    # returns the code representation of an instance \n",
    "    def __repr__(self):\n",
    "        # the 0 is actually the instance self\n",
    "        return 'Pair({0.x!r}, {0.y!r})'.format(self) # !r \n",
    "    # converts the instance to a strings\n",
    "    def __str__(self):\n",
    "        return '({0.x!s}, {0.y!s})'.format(self)\n",
    "\n",
    "p = Pair(3,4)\n",
    "print(p) # __str__ output\n",
    "p # __repr__() output\n",
    "\n"
   ]
  },
  {
   "cell_type": "markdown",
   "metadata": {},
   "source": [
    "# 8.2. Customizing String Formatting"
   ]
  },
  {
   "cell_type": "code",
   "execution_count": 13,
   "metadata": {},
   "outputs": [
    {
     "data": {
      "text/plain": [
       "'The end is 21 Dec 2012. Goodbye'"
      ]
     },
     "execution_count": 13,
     "metadata": {},
     "output_type": "execute_result"
    }
   ],
   "source": [
    "# To customize string formatting, define the __format__() method on a class\n",
    "_formats = {\n",
    "    'ymd': '{d.year}-{d.month}-{d.day}',\n",
    "    'mdy': '{d.month}/{d.day}/{d.year}',\n",
    "    'dmy': '{d.day}/{d.month}/{d.year}'\n",
    "}\n",
    "\n",
    "class Date:\n",
    "    def __init__(self, year, month, day):\n",
    "        self.year = year\n",
    "        self.month = month \n",
    "        self.day = day \n",
    "    \n",
    "    def __format__(self, code):\n",
    "        if code == '':\n",
    "            code = 'ymd'\n",
    "        fmt = _formats[code]\n",
    "        return fmt.format(d=self)\n",
    "\n",
    "d = Date(2012, 12, 21)\n",
    "format(d)\n",
    "format(d, 'mdy')\n",
    "'The date is {:ymd}'.format(d)\n",
    "'The date is {:mdy}'.format(d)\n",
    "\n",
    "from datetime import date \n",
    "d = date(2012, 12, 21)\n",
    "format(d)\n",
    "format(d,'%A,%B %d, %Y')\n",
    "'The end is {:%d %b %Y}. Goodbye'.format(d)"
   ]
  },
  {
   "cell_type": "markdown",
   "metadata": {},
   "source": [
    "# 8.3. Making Objects Support the Context-Management Protocol"
   ]
  },
  {
   "cell_type": "code",
   "execution_count": 17,
   "metadata": {},
   "outputs": [
    {
     "name": "stdout",
     "output_type": "stream",
     "text": [
      "b'HTTP/1.1 301 Moved Permanently\\r\\nServer: Varnish\\r\\nRetry-After: 0\\r\\nLocation: https://www.python.org/index.html\\r\\nContent-Length: 0\\r\\nAccept-Ranges: bytes\\r\\nDate: Fri, 02 Feb 2018 07:36:36 GMT\\r\\nVia: 1.1 varnish\\r\\nConnection: close\\r\\nX-Served-By: cache-hnd18730-HND\\r\\nX-Cache: HIT\\r\\nX-Cache-Hits: 0\\r\\nX-Timer: S1517556996.088865,VS0,VE0\\r\\nStrict-Transport-Security: max-age=63072000; includeSubDomains\\r\\n\\r\\n'\n"
     ]
    }
   ],
   "source": [
    "# context-management protocol(the with statement)\n",
    "# In order to make an object compatible with the with statement, you need to implement __enter__() and __exit__() methods\n",
    "from socket import socket, AF_INET, SOCK_STREAM\n",
    "from functools import partial \n",
    "\n",
    "class LazyConnection:\n",
    "    def __init__(self, address, family=AF_INET, type=SOCK_STREAM):\n",
    "        self.address = address \n",
    "        self.family = AF_INET\n",
    "        self.type = SOCK_STREAM\n",
    "        self.sock = None\n",
    "    \n",
    "    def __enter__(self): # Whenever __enter__() execute, it makes a new connection and adds it to the stack\n",
    "        if self.sock is not None:\n",
    "            raise RuntimeError('Already connected')\n",
    "        self.sock = socket(self.family, self.type)\n",
    "        self.sock.connect(self.address)\n",
    "        return self.sock \n",
    "    \n",
    "    def __exit__(self, exc_ty, exc_val, tb):\n",
    "        self.sock.close()\n",
    "        self.sock = None\n",
    "\n",
    "conn = LazyConnection(('www.python.org', 80))\n",
    "# Connection closed\n",
    "with conn as s:\n",
    "    # conn.__enter__() executes: connection open \n",
    "    s.send(b'GET /index.html HTTP/1.0\\r\\n')\n",
    "    s.send(b'Host: www.python.org\\r\\n')\n",
    "    s.send(b'\\r\\n')\n",
    "    resp = b''.join(iter(partial(s.recv, 8192), b''))\n",
    "    print(resp)\n",
    "    #conn.__exit__() executes: connection closed\n",
    "\n"
   ]
  },
  {
   "cell_type": "markdown",
   "metadata": {},
   "source": [
    "# 8.4. Saving Memory When Creating a Large Number of Instance"
   ]
  },
  {
   "cell_type": "code",
   "execution_count": 21,
   "metadata": {},
   "outputs": [
    {
     "name": "stdout",
     "output_type": "stream",
     "text": [
      "56\n",
      "64\n"
     ]
    }
   ],
   "source": [
    "import sys \n",
    "\n",
    "class DateOpt:\n",
    "    # significant reduction in overall memory use\n",
    "    __slots__ = ['year', 'month', 'day']\n",
    "    \n",
    "    def __init__(self, year, month, day):\n",
    "        self.year = year\n",
    "        self.month= month\n",
    "        self.day = day\n",
    "        \n",
    "class Date:\n",
    "     def __init__(self, year, month, day):\n",
    "        self.year = year\n",
    "        self.month= month\n",
    "        self.day = day\n",
    "\n",
    "\n",
    "dOpt = DateOpt('2018','2','2')\n",
    "d = Date('2018','2','2')\n",
    "print(sys.getsizeof(d))\n",
    "print(sys.getsizeof(dOpt))"
   ]
  },
  {
   "cell_type": "markdown",
   "metadata": {},
   "source": [
    "# 8.5. Encapsulating Names in a Class"
   ]
  },
  {
   "cell_type": "code",
   "execution_count": null,
   "metadata": {},
   "outputs": [],
   "source": [
    "# The first convention is that any name that starts with a single leading underscore(_) should always be assumed to be internal implementation\n",
    "class A:\n",
    "    def __init__(self):\n",
    "        self._internal = 0 # An internal attribute \n",
    "        self.public = 1 # A public attribute \n",
    "    \n",
    "    def public_method(self):\n",
    "        '''\n",
    "        A public method\n",
    "        '''\n",
    "        pass\n",
    "    \n",
    "    def _internal_method(self):\n",
    "        '''\n",
    "        An internal method\n",
    "        '''"
   ]
  },
  {
   "cell_type": "markdown",
   "metadata": {},
   "source": [
    "# 8.6.Creating Managed Attributes"
   ]
  },
  {
   "cell_type": "code",
   "execution_count": 35,
   "metadata": {},
   "outputs": [
    {
     "name": "stdout",
     "output_type": "stream",
     "text": [
      "Guido\n"
     ]
    },
    {
     "data": {
      "text/plain": [
       "25.132741228718345"
      ]
     },
     "execution_count": 35,
     "metadata": {},
     "output_type": "execute_result"
    }
   ],
   "source": [
    "# getting or setting of an instance attribute\n",
    "# A simple way to customize access to an attribute is to define it as a \"property\"\n",
    "class Person:\n",
    "    def __init__(self, first_name):\n",
    "        self._first_name = first_name\n",
    "    \n",
    "    # Getting function\n",
    "    @property\n",
    "    def first_name(self):\n",
    "        return self._first_name\n",
    "    \n",
    "    # Setter function\n",
    "    @first_name.setter \n",
    "    def first_name(self, value):\n",
    "        if not isinstance(value, str):\n",
    "            raise TypeError('Expected a string')\n",
    "        self._first_name = value\n",
    "    \n",
    "    # Deleter function (optional)\n",
    "    @first_name.deleter\n",
    "    def first_name(self):\n",
    "        raise AttributeError(\"Can't delete attribute\")\n",
    "a = Person('Guido')\n",
    "print(a.first_name) # Calls the getter\n",
    "a.first_name = '42' # calls the setter\n",
    "#del a.first_name\n",
    "\n",
    "class Person2:\n",
    "    def __init__(self, first_name):\n",
    "        self.set_first_name(first_name)\n",
    "    \n",
    "    # Getter function\n",
    "    def get_first_name(self):\n",
    "        return self._first_name\n",
    "    \n",
    "    # Setter function\n",
    "    def set_first_name(self, value):\n",
    "        if not isinstance(value, str):\n",
    "            raise TypeError('Expected a string')\n",
    "        self._first_name = value \n",
    "    \n",
    "    # Deleter function (optional)\n",
    "    def del_first_name(self):\n",
    "        raise AttributeError(\"Can't delete attribute\")\n",
    "    \n",
    "    # Make a property from existing get/set methods\n",
    "    name = property(get_first_name, set_first_name, del_first_name)\n",
    "\n",
    "# A property attribute is actually a collection of methods bundled together\n",
    "Person.first_name.fget\n",
    "Person.first_name.fset\n",
    "Person.first_name.fdel\n",
    "\n",
    "# computed attributes\n",
    "import math \n",
    "\n",
    "class Circle:\n",
    "    def __init__(self, radius):\n",
    "        self.radius = radius\n",
    "    \n",
    "    @property\n",
    "    def area(self):\n",
    "        return math.pi * self.radius ** 2\n",
    "    \n",
    "    @property\n",
    "    def perimeter(self):\n",
    "        return 2 * math.pi * self.radius\n",
    "\n",
    "c = Circle(4.0)\n",
    "c.radius\n",
    "c.area\n",
    "c.perimeter"
   ]
  },
  {
   "cell_type": "markdown",
   "metadata": {},
   "source": [
    "# 8.7. Calling a Method on a Parent Class"
   ]
  },
  {
   "cell_type": "code",
   "execution_count": 39,
   "metadata": {},
   "outputs": [
    {
     "name": "stdout",
     "output_type": "stream",
     "text": [
      "Base.__init__\n",
      "B.__init__\n",
      "A.__init__\n",
      "C.__init__\n",
      "(<class '__main__.C'>, <class '__main__.A'>, <class '__main__.B'>, <class '__main__.Base'>, <class 'object'>)\n"
     ]
    },
    {
     "data": {
      "text/plain": [
       "'\\nHow Python implements inheritance.\\n    \\n'"
      ]
     },
     "execution_count": 39,
     "metadata": {},
     "output_type": "execute_result"
    }
   ],
   "source": [
    "# call a method in a parent, use the super() function \n",
    "class Base:\n",
    "    def __init__(self):\n",
    "        print('Base.__init__')\n",
    "\n",
    "class A(Base):\n",
    "    def __init__(self):\n",
    "        Base.__init__(self)\n",
    "        print('A.__init__')\n",
    "        self.x = 0\n",
    "    \n",
    "    def spam(self):\n",
    "        print('A.spam')\n",
    "\n",
    "class B(A):\n",
    "    def __init__(self):\n",
    "        super().__init__()\n",
    "        self.y = 1\n",
    "    \n",
    "    def spam(self):\n",
    "        print('B.spam')\n",
    "        super().spam() # Call parent spam()\n",
    "\n",
    "class Proxy:\n",
    "    def __init__(self, obj):\n",
    "        self._obj = obj \n",
    "    \n",
    "    # Delegate attribute lookup to internal obj\n",
    "    def __getattr__(self, name):\n",
    "        return getattr(self._obj, name)\n",
    "    \n",
    "    # Delegate attribute assignment \n",
    "    def __setattr__(self, name, value):\n",
    "        if name.startswith('_'):\n",
    "            super().__setattr__(name, value) # Call original __setattr__\n",
    "        else:\n",
    "            setattr(self._obj, name, value)\n",
    "\n",
    "class Base:\n",
    "    def __init__(self):\n",
    "        print('Base.__init__')\n",
    "class A(Base):\n",
    "    def __init__(self):\n",
    "        super().__init__() \n",
    "        print('A.__init__')\n",
    "class B(Base):\n",
    "    def __init__(self):\n",
    "        super().__init__() \n",
    "        print('B.__init__')\n",
    "class C(A,B):\n",
    "    def __init__(self):\n",
    "        super().__init__() # Only one call to super() here\n",
    "        print('C.__init__')\n",
    "\n",
    "c = C()\n",
    "print(C.__mro__)\n",
    "'''\n",
    "How Python implements inheritance.\n",
    "MRO(method resolution order) list. The MRO list is simply a linear ordering of all the base classes\n",
    "    \n",
    "    To implement inheritance, Python starts with the leftmost class and works its way left-to-right through classes on the MRO list until it finds the first attribute match\n",
    "    It is actually a merge sort of the MROs from the parent classes subject to three constraints.\n",
    "        C1: Child classes get checked before parents\n",
    "        C2: Multiple parents get checked in the order listed\n",
    "        C3: if there are two valid choices for the next class, pick the one from the first parent\n",
    "'''"
   ]
  },
  {
   "cell_type": "markdown",
   "metadata": {},
   "source": [
    "# 8.8. Extending a Property in a Subclass"
   ]
  },
  {
   "cell_type": "code",
   "execution_count": 45,
   "metadata": {},
   "outputs": [
    {
     "name": "stdout",
     "output_type": "stream",
     "text": [
      "Setting name to Guido\n",
      "Getting name\n",
      "Setting name to Larry\n"
     ]
    }
   ],
   "source": [
    "class Person:\n",
    "    def __init__(self, name):\n",
    "        self.name = name \n",
    "    \n",
    "    # Getter function \n",
    "    @property\n",
    "    def name(self):\n",
    "        return self._name\n",
    "    \n",
    "    # Setter function\n",
    "    @name.setter\n",
    "    def name(self, value):\n",
    "        if not isinstance(value, str):\n",
    "            raise TypeError('Expected a string')\n",
    "        self._name = value\n",
    "    \n",
    "    # Deleter function\n",
    "    @name.deleter\n",
    "    def name(self):\n",
    "        raise AttributeError(\"Can't delete attribute\")\n",
    "\n",
    "class SubPerson(Person):\n",
    "    @property\n",
    "    def name(self):\n",
    "        print('Getting name')\n",
    "        return super().name\n",
    "    \n",
    "    @name.setter\n",
    "    def name(self, value):\n",
    "        print('Setting name to', value)\n",
    "        super(SubPerson, SubPerson).name.__set__(self, value)\n",
    "    \n",
    "    @name.deleter\n",
    "    def name(self):\n",
    "        print('Deleting name')\n",
    "        super(SubPerson, SubPerson).name.__delete__(self)\n",
    "\n",
    "s = SubPerson('Guido')\n",
    "s.name\n",
    "s.name = 'Larry'\n"
   ]
  },
  {
   "cell_type": "code",
   "execution_count": null,
   "metadata": {},
   "outputs": [],
   "source": []
  },
  {
   "cell_type": "code",
   "execution_count": null,
   "metadata": {},
   "outputs": [],
   "source": []
  },
  {
   "cell_type": "code",
   "execution_count": null,
   "metadata": {},
   "outputs": [],
   "source": []
  },
  {
   "cell_type": "code",
   "execution_count": null,
   "metadata": {},
   "outputs": [],
   "source": []
  },
  {
   "cell_type": "code",
   "execution_count": null,
   "metadata": {},
   "outputs": [],
   "source": []
  },
  {
   "cell_type": "code",
   "execution_count": null,
   "metadata": {},
   "outputs": [],
   "source": []
  },
  {
   "cell_type": "code",
   "execution_count": null,
   "metadata": {},
   "outputs": [],
   "source": []
  },
  {
   "cell_type": "code",
   "execution_count": null,
   "metadata": {},
   "outputs": [],
   "source": []
  },
  {
   "cell_type": "code",
   "execution_count": null,
   "metadata": {},
   "outputs": [],
   "source": []
  }
 ],
 "metadata": {
  "kernelspec": {
   "display_name": "Python 3",
   "language": "python",
   "name": "python3"
  },
  "language_info": {
   "codemirror_mode": {
    "name": "ipython",
    "version": 3
   },
   "file_extension": ".py",
   "mimetype": "text/x-python",
   "name": "python",
   "nbconvert_exporter": "python",
   "pygments_lexer": "ipython3",
   "version": "3.5.2"
  }
 },
 "nbformat": 4,
 "nbformat_minor": 2
}
