{
 "cells": [
  {
   "cell_type": "markdown",
   "metadata": {},
   "source": [
    "# 1.12. Determining the Most Frequently Occurring Items in a Sequence"
   ]
  },
  {
   "cell_type": "code",
   "execution_count": 7,
   "metadata": {},
   "outputs": [
    {
     "name": "stdout",
     "output_type": "stream",
     "text": [
      "Counter({'eyes': 8, 'the': 5, 'look': 4, 'my': 3, 'into': 3, 'around': 2, 'not': 1, \"you're\": 1, \"don't\": 1, 'under': 1})\n",
      "[('eyes', 8), ('the', 5), ('look', 4)]\n",
      "9\n"
     ]
    }
   ],
   "source": [
    "from collections import Counter # Counter objects can be fed any sequence of hashable input items\n",
    "\n",
    "words = [\n",
    "    'look', 'into', 'my', 'eyes', 'look', 'into', 'my', 'eyes',\n",
    "    'the', 'eyes', 'the', 'eyes', 'the', 'eyes', 'not', 'around', 'the',\n",
    "    'eyes', \"don't\", 'look', 'around', 'the', 'eyes', 'look', 'into',\n",
    "    'my', 'eyes', \"you're\", 'under'\n",
    "]\n",
    "word_counts = Counter(words)\n",
    "print(word_counts)\n",
    "top_three = word_counts.most_common(3)\n",
    "print(top_three)\n",
    "\n",
    "# increment the count manually\n",
    "morewords = ['why','are','you','not','looking','in','my','eyes']\n",
    "for word in morewords:\n",
    "    word_counts[word] += 1\n",
    "\n",
    "print(word_counts['eyes'])\n",
    "\n",
    "word_counts.update(morewords)"
   ]
  },
  {
   "cell_type": "markdown",
   "metadata": {},
   "source": [
    "# 1.13. Sorting a List of Dictionaries by a Common Key"
   ]
  },
  {
   "cell_type": "code",
   "execution_count": 12,
   "metadata": {},
   "outputs": [
    {
     "name": "stdout",
     "output_type": "stream",
     "text": [
      "[{'uid': 1004, 'fname': 'Big', 'lname': 'Jones'}, {'uid': 1003, 'fname': 'Brian', 'lname': 'Jones'}, {'uid': 1002, 'fname': 'David', 'lname': 'Beazley'}, {'uid': 1001, 'fname': 'John', 'lname': 'Cleese'}]\n",
      "[{'uid': 1001, 'fname': 'John', 'lname': 'Cleese'}, {'uid': 1002, 'fname': 'David', 'lname': 'Beazley'}, {'uid': 1003, 'fname': 'Brian', 'lname': 'Jones'}, {'uid': 1004, 'fname': 'Big', 'lname': 'Jones'}]\n",
      "[{'uid': 1002, 'fname': 'David', 'lname': 'Beazley'}, {'uid': 1001, 'fname': 'John', 'lname': 'Cleese'}, {'uid': 1004, 'fname': 'Big', 'lname': 'Jones'}, {'uid': 1003, 'fname': 'Brian', 'lname': 'Jones'}]\n"
     ]
    }
   ],
   "source": [
    "rows = [\n",
    "{'fname': 'Brian', 'lname': 'Jones', 'uid': 1003},\n",
    "{'fname': 'David', 'lname': 'Beazley', 'uid': 1002},\n",
    "{'fname': 'John', 'lname': 'Cleese', 'uid': 1001},\n",
    "{'fname': 'Big', 'lname': 'Jones', 'uid': 1004}\n",
    "]\n",
    "from operator import itemgetter # itemgetter() function can also accept multiple keys\n",
    "\n",
    "rows_by_fname = sorted(rows, key=itemgetter('fname'))\n",
    "rows_by_uid = sorted(rows, key=lambda r: (r['uid']))\n",
    "rows_by_lfname = sorted(rows, key=itemgetter('lname','fname'))\n",
    "\n",
    "\n",
    "print(rows_by_fname)\n",
    "print(rows_by_uid)\n",
    "print(rows_by_lfname)"
   ]
  },
  {
   "cell_type": "markdown",
   "metadata": {},
   "source": [
    "# 1.14. Sorting Objects Without Native Comparison Support"
   ]
  },
  {
   "cell_type": "code",
   "execution_count": 17,
   "metadata": {},
   "outputs": [
    {
     "data": {
      "text/plain": [
       "[User(3), User(23), User(99)]"
      ]
     },
     "execution_count": 17,
     "metadata": {},
     "output_type": "execute_result"
    }
   ],
   "source": [
    "class User:\n",
    "    def __init__(self, user_id):\n",
    "        self.user_id = user_id \n",
    "    \n",
    "    def __repr__(self):\n",
    "        return 'User({})'.format(self.user_id)\n",
    "\n",
    "users = [User(23), User(3), User(99)]\n",
    "sorted(users, key=lambda u: u.user_id)\n",
    "\n",
    "from operator import attrgetter \n",
    "sorted(users, key=attrgetter('user_id'))"
   ]
  },
  {
   "cell_type": "markdown",
   "metadata": {},
   "source": [
    "# 1.15. Grouping Records Together Based on a Field"
   ]
  },
  {
   "cell_type": "code",
   "execution_count": 23,
   "metadata": {},
   "outputs": [
    {
     "name": "stdout",
     "output_type": "stream",
     "text": [
      "[{'date': '07/01/2012', 'address': '5412 N CLARK'}, {'date': '07/01/2012', 'address': '4801 N BROADWAY'}, {'date': '07/02/2012', 'address': '5800 E 58TH'}, {'date': '07/02/2012', 'address': '5645 N RAVENSWOOD'}, {'date': '07/02/2012', 'address': '1060 W ADDISON'}, {'date': '07/03/2012', 'address': '2122 N CLARK'}, {'date': '07/04/2012', 'address': '5148 N CLARK'}, {'date': '07/04/2012', 'address': '1039 W GRANVILLE'}]\n",
      "07/01/2012\n",
      "   {'date': '07/01/2012', 'address': '5412 N CLARK'}\n",
      "   {'date': '07/01/2012', 'address': '4801 N BROADWAY'}\n",
      "07/02/2012\n",
      "   {'date': '07/02/2012', 'address': '5800 E 58TH'}\n",
      "   {'date': '07/02/2012', 'address': '5645 N RAVENSWOOD'}\n",
      "   {'date': '07/02/2012', 'address': '1060 W ADDISON'}\n",
      "07/03/2012\n",
      "   {'date': '07/03/2012', 'address': '2122 N CLARK'}\n",
      "07/04/2012\n",
      "   {'date': '07/04/2012', 'address': '5148 N CLARK'}\n",
      "   {'date': '07/04/2012', 'address': '1039 W GRANVILLE'}\n",
      "defaultdict(<class 'list'>, {'07/01/2012': [{'date': '07/01/2012', 'address': '5412 N CLARK'}, {'date': '07/01/2012', 'address': '4801 N BROADWAY'}], '07/03/2012': [{'date': '07/03/2012', 'address': '2122 N CLARK'}], '07/04/2012': [{'date': '07/04/2012', 'address': '5148 N CLARK'}, {'date': '07/04/2012', 'address': '1039 W GRANVILLE'}], '07/02/2012': [{'date': '07/02/2012', 'address': '5800 E 58TH'}, {'date': '07/02/2012', 'address': '5645 N RAVENSWOOD'}, {'date': '07/02/2012', 'address': '1060 W ADDISON'}]})\n",
      "{'date': '07/01/2012', 'address': '5412 N CLARK'}\n",
      "{'date': '07/01/2012', 'address': '4801 N BROADWAY'}\n"
     ]
    }
   ],
   "source": [
    "rows = [\n",
    "    {'address': '5412 N CLARK', 'date': '07/01/2012'},\n",
    "    {'address': '5148 N CLARK', 'date': '07/04/2012'},\n",
    "    {'address': '5800 E 58TH', 'date': '07/02/2012'},\n",
    "    {'address': '2122 N CLARK', 'date': '07/03/2012'},\n",
    "    {'address': '5645 N RAVENSWOOD', 'date': '07/02/2012'},\n",
    "    {'address': '1060 W ADDISON', 'date': '07/02/2012'},\n",
    "    {'address': '4801 N BROADWAY', 'date': '07/01/2012'},\n",
    "    {'address': '1039 W GRANVILLE', 'date': '07/04/2012'},\n",
    "]\n",
    "from operator import itemgetter\n",
    "from itertools import groupby\n",
    "\n",
    "# Sort by the desired field first \n",
    "rows.sort(key=itemgetter('date'))\n",
    "print(rows)\n",
    "\n",
    "# Iterate in groups\n",
    "for date, items in groupby(rows, key=itemgetter('date')):\n",
    "    print(date)\n",
    "    for i in items:\n",
    "        print('  ',i)\n",
    "\n",
    "from collections import defaultdict \n",
    "rows_by_date = defaultdict(list)\n",
    "for row in rows:\n",
    "    rows_by_date[row['date']].append(row)\n",
    "print(rows_by_date)\n",
    "for r in rows_by_date['07/01/2012']:\n",
    "    print(r)"
   ]
  },
  {
   "cell_type": "markdown",
   "metadata": {},
   "source": [
    "# 1.16. Filtering Sequence Elements"
   ]
  },
  {
   "cell_type": "code",
   "execution_count": 32,
   "metadata": {},
   "outputs": [
    {
     "name": "stdout",
     "output_type": "stream",
     "text": [
      "1\n",
      "4\n",
      "10\n",
      "2\n",
      "3\n",
      "['1', '2', '-3', '4', '5']\n"
     ]
    },
    {
     "data": {
      "text/plain": [
       "['5800 E 58TH', '4801 N BROADWAY', '1039 W GRANVILLE']"
      ]
     },
     "execution_count": 32,
     "metadata": {},
     "output_type": "execute_result"
    }
   ],
   "source": [
    "mylist = [1, 4, -5, 10, -7, 2, 3, -1]\n",
    "[n for n in mylist if n>0]\n",
    "\n",
    "[n for n in mylist if n<0]\n",
    "\n",
    "# generator expression to prduce the filtered values iteratively\n",
    "pos = (n for n in mylist if n>0)\n",
    "for x in pos:\n",
    "    print(x)\n",
    "\n",
    "values = ['1', '2', '-3', '-', '4', 'N/A', '5']\n",
    "def is_int(val):\n",
    "    try:\n",
    "        x = int(val)\n",
    "        return True \n",
    "    except ValueError:\n",
    "        return False \n",
    "\n",
    "ivals = list(filter(is_int, values)) # filter() create an iterator\n",
    "print(ivals)\n",
    "\n",
    "mylist = [1, 4, -5, 10, -7, 2, 3, -1]\n",
    "import math \n",
    "[math.sqrt(n) for n in mylist if n > 0]\n",
    "\n",
    "addresses = [\n",
    "'5412 N CLARK',\n",
    "'5148 N CLARK',\n",
    "'5800 E 58TH',\n",
    "'2122 N CLARK'\n",
    "'5645 N RAVENSWOOD',\n",
    "'1060 W ADDISON',\n",
    "'4801 N BROADWAY',\n",
    "'1039 W GRANVILLE',\n",
    "]\n",
    "\n",
    "counts = [0, 3, 10, 4, 1, 7, 6, 1]\n",
    "\n",
    "from itertools import compress \n",
    "more5 = [n > 5 for n in counts]\n",
    "list(compress(addresses, more5))\n",
    "\n",
    "# filter(), compress() normally returns an iterator."
   ]
  },
  {
   "cell_type": "markdown",
   "metadata": {},
   "source": [
    "# 1.17. Extracting a Subset of a Dictionary "
   ]
  },
  {
   "cell_type": "code",
   "execution_count": 35,
   "metadata": {},
   "outputs": [
    {
     "name": "stdout",
     "output_type": "stream",
     "text": [
      "{'AAPL': 612.78, 'IBM': 205.55, 'HPQ': 37.2}\n"
     ]
    }
   ],
   "source": [
    "prices = {\n",
    "'ACME': 45.23,\n",
    "'AAPL': 612.78,\n",
    "'IBM': 205.55,\n",
    "'HPQ': 37.20,\n",
    "'FB': 10.75\n",
    "}\n",
    "\n",
    "# Make a dictionary of all prices over 200\n",
    "p1 = { key:value for key, value in prices.items() if value > 200}\n",
    "\n",
    "# Make a dictionary of tech stocks \n",
    "tech_names = {'AAPL', 'IBM', 'HPQ', 'MSFT'}\n",
    "p2 = { key:value for key, value in prices.items() if key in tech_names }\n",
    "print(p2)\n"
   ]
  },
  {
   "cell_type": "markdown",
   "metadata": {},
   "source": [
    "# 1.18. Mapping Names to Sequence Elements\n"
   ]
  },
  {
   "cell_type": "code",
   "execution_count": 42,
   "metadata": {},
   "outputs": [
    {
     "data": {
      "text/plain": [
       "Stock(name='ACME', shares=75, price=123.45)"
      ]
     },
     "execution_count": 42,
     "metadata": {},
     "output_type": "execute_result"
    }
   ],
   "source": [
    "from collections import namedtuple\n",
    "Subscriber = namedtuple('Subscriber',['addr', 'joined'])\n",
    "sub = Subscriber('jonesy@exmaple.com', '2012-10-19')\n",
    "sub.addr\n",
    "\n",
    "from collections import namedtuple # namedtuple is immutable \n",
    "Stock = namedtuple('Stock', ['name', 'shares','price'])\n",
    "def compute_cost(records):\n",
    "    total = 0.0 \n",
    "    for rec in records:\n",
    "        s = Stock(*rec)\n",
    "        total += s.shares * s.price\n",
    "    return total\n",
    "s = Stock('ACME', 100, 123.45)\n",
    "s = s._replace(shares=75)\n",
    "s"
   ]
  },
  {
   "cell_type": "markdown",
   "metadata": {},
   "source": [
    "# 1.19. Transforming and Reducing Data at the Same Time"
   ]
  },
  {
   "cell_type": "code",
   "execution_count": 53,
   "metadata": {},
   "outputs": [
    {
     "name": "stdout",
     "output_type": "stream",
     "text": [
      "There be python!\n",
      "ACME,50,123.45\n"
     ]
    },
    {
     "data": {
      "text/plain": [
       "{'name': 'AOL', 'shares': 20}"
      ]
     },
     "execution_count": 53,
     "metadata": {},
     "output_type": "execute_result"
    }
   ],
   "source": [
    "nums = [1,2,3,4,5]\n",
    "s = sum(x*x for x in nums)\n",
    "\n",
    "# Determine if any .py files exist in a directory \n",
    "import os \n",
    "files = os.listdir('.')\n",
    "if any(name.endswith('.py') for name in files):\n",
    "    print('There be python!')\n",
    "else:\n",
    "    print('Sorry, no python.')\n",
    "    \n",
    "# Output a tuple as CSV\n",
    "s = ('ACME', 50, 123.45)\n",
    "print(','.join(str(x) for x in s))\n",
    "\n",
    "# Data reduction across fields of a data structure \n",
    "portfolio = [\n",
    "    {'name':'GOOG', 'shares':50},\n",
    "    {'name':'YHOO', 'shares':75},\n",
    "    {'name':'AOL', 'shares':20},\n",
    "    {'name':'SCOX', 'shares':65}\n",
    "]\n",
    "min_shares = min(s['shares'] for s in portfolio)\n",
    "min_shares\n",
    "\n",
    "# Alternative: Returns {'name':'AOL', 'shares':20}\n",
    "min_shares = min(portfolio, key=lambda s: s['shares'])\n",
    "min_shares"
   ]
  },
  {
   "cell_type": "markdown",
   "metadata": {},
   "source": [
    "# 1.20. Combining Multiple Mappings into a Single Mapping"
   ]
  },
  {
   "cell_type": "code",
   "execution_count": 65,
   "metadata": {},
   "outputs": [
    {
     "name": "stdout",
     "output_type": "stream",
     "text": [
      "1\n",
      "3\n"
     ]
    },
    {
     "data": {
      "text/plain": [
       "{'x': 1, 'y': 2, 'z': 3}"
      ]
     },
     "execution_count": 65,
     "metadata": {},
     "output_type": "execute_result"
    }
   ],
   "source": [
    "a = {'x': 1, 'z': 3 }\n",
    "b = {'y': 2, 'z': 4 }\n",
    "from collections import ChainMap # ChainMap takes multiple mappings and makes them logically appear as one \n",
    "# duplicate keys, the values from the first mapping get used\n",
    "c = ChainMap(a,b)\n",
    "print(c['x']) \n",
    "print(c['z'])\n",
    "len(c)\n",
    "list(c.keys())\n",
    "list(c.values())\n",
    "\n",
    "# Operations that mutate the mapping always affect the first mapping listed \n",
    "c['z'] = 10\n",
    "c['w'] = 40 \n",
    "del c['x']\n",
    "\n",
    "values = ChainMap() # uses the original dictionaries\n",
    "values['x'] = 1 \n",
    "# Adding a new mapping \n",
    "values = values.new_child() \n",
    "values['x'] = 2\n",
    "values = values.new_child()\n",
    "values['x'] = 3\n",
    "# Discard last mapping\n",
    "values = values.parents \n",
    "values['x']\n",
    "\n",
    "a = {'x': 1, 'z': 3 }\n",
    "b = {'y': 2, 'z': 4 }\n",
    "merged = dict(b)\n",
    "merged.update(a)\n",
    "merged\n",
    "\n"
   ]
  }
 ],
 "metadata": {
  "kernelspec": {
   "display_name": "Python 3",
   "language": "python",
   "name": "python3"
  },
  "language_info": {
   "codemirror_mode": {
    "name": "ipython",
    "version": 3
   },
   "file_extension": ".py",
   "mimetype": "text/x-python",
   "name": "python",
   "nbconvert_exporter": "python",
   "pygments_lexer": "ipython3",
   "version": "3.5.2"
  }
 },
 "nbformat": 4,
 "nbformat_minor": 2
}
